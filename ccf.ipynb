{
 "cells": [
  {
   "cell_type": "code",
   "execution_count": 1,
   "metadata": {},
   "outputs": [],
   "source": [
    "import numpy as np\n",
    "import pandas as pd\n",
    "import matplotlib.pyplot as plt\n",
    "from sklearn.model_selection import cross_validate\n",
    "import seaborn as sns\n",
    "\n",
    "from sklearn.ensemble import RandomForestClassifier\n",
    "from sklearn.metrics import mean_squared_error, accuracy_score, precision_score,recall_score,f1_score, confusion_matrix\n",
    "from sklearn.model_selection import GridSearchCV\n",
    "from sklearn.tree import DecisionTreeClassifier\n",
    "from sklearn.ensemble import GradientBoostingClassifier\n",
    "from sklearn.svm import SVC\n",
    "import warnings \n",
    "warnings.filterwarnings('ignore')"
   ]
  },
  {
   "cell_type": "code",
   "execution_count": 2,
   "metadata": {},
   "outputs": [
    {
     "name": "stdout",
     "output_type": "stream",
     "text": [
      "   Time        V1        V2        V3        V4        V5        V6        V7  \\\n",
      "0   0.0 -1.359807 -0.072781  2.536347  1.378155 -0.338321  0.462388  0.239599   \n",
      "1   0.0  1.191857  0.266151  0.166480  0.448154  0.060018 -0.082361 -0.078803   \n",
      "2   1.0 -1.358354 -1.340163  1.773209  0.379780 -0.503198  1.800499  0.791461   \n",
      "3   1.0 -0.966272 -0.185226  1.792993 -0.863291 -0.010309  1.247203  0.237609   \n",
      "4   2.0 -1.158233  0.877737  1.548718  0.403034 -0.407193  0.095921  0.592941   \n",
      "\n",
      "         V8        V9  ...       V21       V22       V23       V24       V25  \\\n",
      "0  0.098698  0.363787  ... -0.018307  0.277838 -0.110474  0.066928  0.128539   \n",
      "1  0.085102 -0.255425  ... -0.225775 -0.638672  0.101288 -0.339846  0.167170   \n",
      "2  0.247676 -1.514654  ...  0.247998  0.771679  0.909412 -0.689281 -0.327642   \n",
      "3  0.377436 -1.387024  ... -0.108300  0.005274 -0.190321 -1.175575  0.647376   \n",
      "4 -0.270533  0.817739  ... -0.009431  0.798278 -0.137458  0.141267 -0.206010   \n",
      "\n",
      "        V26       V27       V28  Amount  Class  \n",
      "0 -0.189115  0.133558 -0.021053  149.62      0  \n",
      "1  0.125895 -0.008983  0.014724    2.69      0  \n",
      "2 -0.139097 -0.055353 -0.059752  378.66      0  \n",
      "3 -0.221929  0.062723  0.061458  123.50      0  \n",
      "4  0.502292  0.219422  0.215153   69.99      0  \n",
      "\n",
      "[5 rows x 31 columns]\n"
     ]
    }
   ],
   "source": [
    "creditcard = pd.read_csv(\"C:\\\\Users\\\\Zara\\\\Desktop\\\\Credit Card Fraud\\\\creditcard.csv\")\n",
    "\n",
    "print(creditcard.head())"
   ]
  },
  {
   "cell_type": "code",
   "execution_count": null,
   "metadata": {},
   "outputs": [],
   "source": [
    "import seaborn as sns\n",
    "\n",
    "plt.figure(figsize=(20,5))\n",
    "sns.distplot(creditcard[['Time']], axlabel = 'Time')"
   ]
  },
  {
   "cell_type": "code",
   "execution_count": null,
   "metadata": {},
   "outputs": [],
   "source": [
    "plt.figure(figsize=(10,5))\n",
    "plt.xlim([0, 2000])\n",
    "sns.distplot(creditcard[['Amount']], axlabel = 'Amount')\n"
   ]
  },
  {
   "cell_type": "code",
   "execution_count": 16,
   "metadata": {},
   "outputs": [
    {
     "data": {
      "text/plain": [
       "<matplotlib.axes._subplots.AxesSubplot at 0x17475c02fd0>"
      ]
     },
     "execution_count": 16,
     "metadata": {},
     "output_type": "execute_result"
    },
    {
     "data": {
      "image/png": "[encoded data removed]",
      "text/plain": [
       "<Figure size 432x360 with 1 Axes>"
      ]
     },
     "metadata": {
      "needs_background": "light"
     },
     "output_type": "display_data"
    }
   ],
   "source": [
    "plt.figure(figsize=(6,5))\n",
    "\n",
    "sns.countplot(x = 'Class',  data = creditcard)\n",
    "#plt.legend('Class', ncol=2, loc='upper right')"
   ]
  },
  {
   "cell_type": "code",
   "execution_count": 15,
   "metadata": {},
   "outputs": [
    {
     "name": "stdout",
     "output_type": "stream",
     "text": [
      "Fraud Cases: 492\n",
      "Valid Transactions: 284315\n"
     ]
    }
   ],
   "source": [
    "Fraud = creditcard[creditcard['Class'] == 1]\n",
    "Valid = creditcard[creditcard['Class'] == 0]\n",
    "\n",
    "print('Fraud Cases:',(len(Fraud)))\n",
    "print('Valid Transactions:', (len(Valid)))"
   ]
  },
  {
   "cell_type": "code",
   "execution_count": null,
   "metadata": {
    "scrolled": true
   },
   "outputs": [],
   "source": [
    "corrmat = creditcard.corr()\n",
    "fig = plt.figure(figsize = (12, 9))\n",
    "sns.heatmap(corrmat, vmax = .8, square = True)\n",
    "plt.show()"
   ]
  },
  {
   "cell_type": "code",
   "execution_count": null,
   "metadata": {},
   "outputs": [],
   "source": [
    "creditcard.hist(figsize = (22, 20), bins = 20)\n",
    "plt.show()"
   ]
  },
  {
   "cell_type": "code",
   "execution_count": 3,
   "metadata": {},
   "outputs": [
    {
     "data": {
      "text/html": [
       "<div>\n",
       "<style scoped>\n",
       "    .dataframe tbody tr th:only-of-type {\n",
       "        vertical-align: middle;\n",
       "    }\n",
       "\n",
       "    .dataframe tbody tr th {\n",
       "        vertical-align: top;\n",
       "    }\n",
       "\n",
       "    .dataframe thead th {\n",
       "        text-align: right;\n",
       "    }\n",
       "</style>\n",
       "<table border=\"1\" class=\"dataframe\">\n",
       "  <thead>\n",
       "    <tr style=\"text-align: right;\">\n",
       "      <th></th>\n",
       "      <th>V1</th>\n",
       "      <th>V2</th>\n",
       "      <th>V3</th>\n",
       "      <th>V4</th>\n",
       "      <th>V5</th>\n",
       "      <th>V6</th>\n",
       "      <th>V7</th>\n",
       "      <th>V8</th>\n",
       "      <th>V9</th>\n",
       "      <th>V10</th>\n",
       "      <th>...</th>\n",
       "      <th>V21</th>\n",
       "      <th>V22</th>\n",
       "      <th>V23</th>\n",
       "      <th>V24</th>\n",
       "      <th>V25</th>\n",
       "      <th>V26</th>\n",
       "      <th>V27</th>\n",
       "      <th>V28</th>\n",
       "      <th>Class</th>\n",
       "      <th>normalizedAmount</th>\n",
       "    </tr>\n",
       "  </thead>\n",
       "  <tbody>\n",
       "    <tr>\n",
       "      <th>0</th>\n",
       "      <td>-1.359807</td>\n",
       "      <td>-0.072781</td>\n",
       "      <td>2.536347</td>\n",
       "      <td>1.378155</td>\n",
       "      <td>-0.338321</td>\n",
       "      <td>0.462388</td>\n",
       "      <td>0.239599</td>\n",
       "      <td>0.098698</td>\n",
       "      <td>0.363787</td>\n",
       "      <td>0.090794</td>\n",
       "      <td>...</td>\n",
       "      <td>-0.018307</td>\n",
       "      <td>0.277838</td>\n",
       "      <td>-0.110474</td>\n",
       "      <td>0.066928</td>\n",
       "      <td>0.128539</td>\n",
       "      <td>-0.189115</td>\n",
       "      <td>0.133558</td>\n",
       "      <td>-0.021053</td>\n",
       "      <td>0</td>\n",
       "      <td>0.244964</td>\n",
       "    </tr>\n",
       "    <tr>\n",
       "      <th>1</th>\n",
       "      <td>1.191857</td>\n",
       "      <td>0.266151</td>\n",
       "      <td>0.166480</td>\n",
       "      <td>0.448154</td>\n",
       "      <td>0.060018</td>\n",
       "      <td>-0.082361</td>\n",
       "      <td>-0.078803</td>\n",
       "      <td>0.085102</td>\n",
       "      <td>-0.255425</td>\n",
       "      <td>-0.166974</td>\n",
       "      <td>...</td>\n",
       "      <td>-0.225775</td>\n",
       "      <td>-0.638672</td>\n",
       "      <td>0.101288</td>\n",
       "      <td>-0.339846</td>\n",
       "      <td>0.167170</td>\n",
       "      <td>0.125895</td>\n",
       "      <td>-0.008983</td>\n",
       "      <td>0.014724</td>\n",
       "      <td>0</td>\n",
       "      <td>-0.342475</td>\n",
       "    </tr>\n",
       "    <tr>\n",
       "      <th>2</th>\n",
       "      <td>-1.358354</td>\n",
       "      <td>-1.340163</td>\n",
       "      <td>1.773209</td>\n",
       "      <td>0.379780</td>\n",
       "      <td>-0.503198</td>\n",
       "      <td>1.800499</td>\n",
       "      <td>0.791461</td>\n",
       "      <td>0.247676</td>\n",
       "      <td>-1.514654</td>\n",
       "      <td>0.207643</td>\n",
       "      <td>...</td>\n",
       "      <td>0.247998</td>\n",
       "      <td>0.771679</td>\n",
       "      <td>0.909412</td>\n",
       "      <td>-0.689281</td>\n",
       "      <td>-0.327642</td>\n",
       "      <td>-0.139097</td>\n",
       "      <td>-0.055353</td>\n",
       "      <td>-0.059752</td>\n",
       "      <td>0</td>\n",
       "      <td>1.160686</td>\n",
       "    </tr>\n",
       "    <tr>\n",
       "      <th>3</th>\n",
       "      <td>-0.966272</td>\n",
       "      <td>-0.185226</td>\n",
       "      <td>1.792993</td>\n",
       "      <td>-0.863291</td>\n",
       "      <td>-0.010309</td>\n",
       "      <td>1.247203</td>\n",
       "      <td>0.237609</td>\n",
       "      <td>0.377436</td>\n",
       "      <td>-1.387024</td>\n",
       "      <td>-0.054952</td>\n",
       "      <td>...</td>\n",
       "      <td>-0.108300</td>\n",
       "      <td>0.005274</td>\n",
       "      <td>-0.190321</td>\n",
       "      <td>-1.175575</td>\n",
       "      <td>0.647376</td>\n",
       "      <td>-0.221929</td>\n",
       "      <td>0.062723</td>\n",
       "      <td>0.061458</td>\n",
       "      <td>0</td>\n",
       "      <td>0.140534</td>\n",
       "    </tr>\n",
       "    <tr>\n",
       "      <th>4</th>\n",
       "      <td>-1.158233</td>\n",
       "      <td>0.877737</td>\n",
       "      <td>1.548718</td>\n",
       "      <td>0.403034</td>\n",
       "      <td>-0.407193</td>\n",
       "      <td>0.095921</td>\n",
       "      <td>0.592941</td>\n",
       "      <td>-0.270533</td>\n",
       "      <td>0.817739</td>\n",
       "      <td>0.753074</td>\n",
       "      <td>...</td>\n",
       "      <td>-0.009431</td>\n",
       "      <td>0.798278</td>\n",
       "      <td>-0.137458</td>\n",
       "      <td>0.141267</td>\n",
       "      <td>-0.206010</td>\n",
       "      <td>0.502292</td>\n",
       "      <td>0.219422</td>\n",
       "      <td>0.215153</td>\n",
       "      <td>0</td>\n",
       "      <td>-0.073403</td>\n",
       "    </tr>\n",
       "  </tbody>\n",
       "</table>\n",
       "<p>5 rows × 30 columns</p>\n",
       "</div>"
      ],
      "text/plain": [
       "         V1        V2        V3        V4        V5        V6        V7  \\\n",
       "0 -1.359807 -0.072781  2.536347  1.378155 -0.338321  0.462388  0.239599   \n",
       "1  1.191857  0.266151  0.166480  0.448154  0.060018 -0.082361 -0.078803   \n",
       "2 -1.358354 -1.340163  1.773209  0.379780 -0.503198  1.800499  0.791461   \n",
       "3 -0.966272 -0.185226  1.792993 -0.863291 -0.010309  1.247203  0.237609   \n",
       "4 -1.158233  0.877737  1.548718  0.403034 -0.407193  0.095921  0.592941   \n",
       "\n",
       "         V8        V9       V10  ...       V21       V22       V23       V24  \\\n",
       "0  0.098698  0.363787  0.090794  ... -0.018307  0.277838 -0.110474  0.066928   \n",
       "1  0.085102 -0.255425 -0.166974  ... -0.225775 -0.638672  0.101288 -0.339846   \n",
       "2  0.247676 -1.514654  0.207643  ...  0.247998  0.771679  0.909412 -0.689281   \n",
       "3  0.377436 -1.387024 -0.054952  ... -0.108300  0.005274 -0.190321 -1.175575   \n",
       "4 -0.270533  0.817739  0.753074  ... -0.009431  0.798278 -0.137458  0.141267   \n",
       "\n",
       "        V25       V26       V27       V28  Class  normalizedAmount  \n",
       "0  0.128539 -0.189115  0.133558 -0.021053      0          0.244964  \n",
       "1  0.167170  0.125895 -0.008983  0.014724      0         -0.342475  \n",
       "2 -0.327642 -0.139097 -0.055353 -0.059752      0          1.160686  \n",
       "3  0.647376 -0.221929  0.062723  0.061458      0          0.140534  \n",
       "4 -0.206010  0.502292  0.219422  0.215153      0         -0.073403  \n",
       "\n",
       "[5 rows x 30 columns]"
      ]
     },
     "execution_count": 3,
     "metadata": {},
     "output_type": "execute_result"
    }
   ],
   "source": [
    "from sklearn.preprocessing import StandardScaler\n",
    "\n",
    "creditcard['normalizedAmount'] = StandardScaler().fit_transform(creditcard['Amount'].values.reshape(-1,1))\n",
    "creditcard = creditcard.drop(['Amount'],axis=1)\n",
    "creditcard= creditcard.drop(['Time'],axis=1)\n",
    "creditcard.head()\n",
    "\n",
    "\n"
   ]
  },
  {
   "cell_type": "code",
   "execution_count": 4,
   "metadata": {},
   "outputs": [],
   "source": [
    "x = creditcard.drop(columns = ['Class'], axis = 1)\n",
    "y= creditcard[['Class']]\n"
   ]
  },
  {
   "cell_type": "code",
   "execution_count": 5,
   "metadata": {},
   "outputs": [],
   "source": [
    "# Using Skicit-learn to split data into training and testing sets\n",
    "from sklearn.model_selection import train_test_split\n",
    "# Split the data into training and testing sets\n",
    "\n",
    "#use cross validation\n",
    "x_train, x_test, y_train, y_test = train_test_split(x, y, test_size = 0.3, random_state = 42)\n"
   ]
  },
  {
   "cell_type": "markdown",
   "metadata": {},
   "source": [
    "# Random Forest"
   ]
  },
  {
   "cell_type": "code",
   "execution_count": 94,
   "metadata": {
    "scrolled": true
   },
   "outputs": [
    {
     "name": "stdout",
     "output_type": "stream",
     "text": [
      "Fitting 3 folds for each of 27 candidates, totalling 81 fits\n",
      "[CV] min_samples_leaf=1, min_samples_split=2, n_estimators=5, random_state=0 \n"
     ]
    },
    {
     "name": "stderr",
     "output_type": "stream",
     "text": [
      "[Parallel(n_jobs=1)]: Using backend SequentialBackend with 1 concurrent workers.\n"
     ]
    },
    {
     "name": "stdout",
     "output_type": "stream",
     "text": [
      "[CV]  min_samples_leaf=1, min_samples_split=2, n_estimators=5, random_state=0, total=  10.5s\n",
      "[CV] min_samples_leaf=1, min_samples_split=2, n_estimators=5, random_state=0 \n"
     ]
    },
    {
     "name": "stderr",
     "output_type": "stream",
     "text": [
      "[Parallel(n_jobs=1)]: Done   1 out of   1 | elapsed:   10.4s remaining:    0.0s\n"
     ]
    },
    {
     "name": "stdout",
     "output_type": "stream",
     "text": [
      "[CV]  min_samples_leaf=1, min_samples_split=2, n_estimators=5, random_state=0, total=   9.8s\n",
      "[CV] min_samples_leaf=1, min_samples_split=2, n_estimators=5, random_state=0 \n",
      "[CV]  min_samples_leaf=1, min_samples_split=2, n_estimators=5, random_state=0, total=  11.0s\n",
      "[CV] min_samples_leaf=1, min_samples_split=2, n_estimators=10, random_state=0 \n",
      "[CV]  min_samples_leaf=1, min_samples_split=2, n_estimators=10, random_state=0, total=  19.1s\n",
      "[CV] min_samples_leaf=1, min_samples_split=2, n_estimators=10, random_state=0 \n",
      "[CV]  min_samples_leaf=1, min_samples_split=2, n_estimators=10, random_state=0, total=  19.1s\n",
      "[CV] min_samples_leaf=1, min_samples_split=2, n_estimators=10, random_state=0 \n",
      "[CV]  min_samples_leaf=1, min_samples_split=2, n_estimators=10, random_state=0, total=  21.3s\n",
      "[CV] min_samples_leaf=1, min_samples_split=2, n_estimators=15, random_state=0 \n",
      "[CV]  min_samples_leaf=1, min_samples_split=2, n_estimators=15, random_state=0, total=  27.7s\n",
      "[CV] min_samples_leaf=1, min_samples_split=2, n_estimators=15, random_state=0 \n",
      "[CV]  min_samples_leaf=1, min_samples_split=2, n_estimators=15, random_state=0, total=  29.6s\n",
      "[CV] min_samples_leaf=1, min_samples_split=2, n_estimators=15, random_state=0 \n",
      "[CV]  min_samples_leaf=1, min_samples_split=2, n_estimators=15, random_state=0, total=  28.5s\n",
      "[CV] min_samples_leaf=1, min_samples_split=5, n_estimators=5, random_state=0 \n",
      "[CV]  min_samples_leaf=1, min_samples_split=5, n_estimators=5, random_state=0, total=   8.7s\n",
      "[CV] min_samples_leaf=1, min_samples_split=5, n_estimators=5, random_state=0 \n",
      "[CV]  min_samples_leaf=1, min_samples_split=5, n_estimators=5, random_state=0, total=  10.5s\n",
      "[CV] min_samples_leaf=1, min_samples_split=5, n_estimators=5, random_state=0 \n",
      "[CV]  min_samples_leaf=1, min_samples_split=5, n_estimators=5, random_state=0, total=  10.9s\n",
      "[CV] min_samples_leaf=1, min_samples_split=5, n_estimators=10, random_state=0 \n",
      "[CV]  min_samples_leaf=1, min_samples_split=5, n_estimators=10, random_state=0, total=  17.5s\n",
      "[CV] min_samples_leaf=1, min_samples_split=5, n_estimators=10, random_state=0 \n",
      "[CV]  min_samples_leaf=1, min_samples_split=5, n_estimators=10, random_state=0, total=  18.6s\n",
      "[CV] min_samples_leaf=1, min_samples_split=5, n_estimators=10, random_state=0 \n",
      "[CV]  min_samples_leaf=1, min_samples_split=5, n_estimators=10, random_state=0, total=  21.7s\n",
      "[CV] min_samples_leaf=1, min_samples_split=5, n_estimators=15, random_state=0 \n",
      "[CV]  min_samples_leaf=1, min_samples_split=5, n_estimators=15, random_state=0, total=  26.3s\n",
      "[CV] min_samples_leaf=1, min_samples_split=5, n_estimators=15, random_state=0 \n",
      "[CV]  min_samples_leaf=1, min_samples_split=5, n_estimators=15, random_state=0, total=  29.4s\n",
      "[CV] min_samples_leaf=1, min_samples_split=5, n_estimators=15, random_state=0 \n",
      "[CV]  min_samples_leaf=1, min_samples_split=5, n_estimators=15, random_state=0, total=  33.1s\n",
      "[CV] min_samples_leaf=1, min_samples_split=7, n_estimators=5, random_state=0 \n",
      "[CV]  min_samples_leaf=1, min_samples_split=7, n_estimators=5, random_state=0, total=  10.0s\n",
      "[CV] min_samples_leaf=1, min_samples_split=7, n_estimators=5, random_state=0 \n",
      "[CV]  min_samples_leaf=1, min_samples_split=7, n_estimators=5, random_state=0, total=  11.3s\n",
      "[CV] min_samples_leaf=1, min_samples_split=7, n_estimators=5, random_state=0 \n",
      "[CV]  min_samples_leaf=1, min_samples_split=7, n_estimators=5, random_state=0, total=  10.9s\n",
      "[CV] min_samples_leaf=1, min_samples_split=7, n_estimators=10, random_state=0 \n",
      "[CV]  min_samples_leaf=1, min_samples_split=7, n_estimators=10, random_state=0, total=  17.6s\n",
      "[CV] min_samples_leaf=1, min_samples_split=7, n_estimators=10, random_state=0 \n",
      "[CV]  min_samples_leaf=1, min_samples_split=7, n_estimators=10, random_state=0, total=  20.9s\n",
      "[CV] min_samples_leaf=1, min_samples_split=7, n_estimators=10, random_state=0 \n",
      "[CV]  min_samples_leaf=1, min_samples_split=7, n_estimators=10, random_state=0, total=  20.4s\n",
      "[CV] min_samples_leaf=1, min_samples_split=7, n_estimators=15, random_state=0 \n",
      "[CV]  min_samples_leaf=1, min_samples_split=7, n_estimators=15, random_state=0, total=  26.4s\n",
      "[CV] min_samples_leaf=1, min_samples_split=7, n_estimators=15, random_state=0 \n",
      "[CV]  min_samples_leaf=1, min_samples_split=7, n_estimators=15, random_state=0, total=  31.2s\n",
      "[CV] min_samples_leaf=1, min_samples_split=7, n_estimators=15, random_state=0 \n",
      "[CV]  min_samples_leaf=1, min_samples_split=7, n_estimators=15, random_state=0, total=  30.5s\n",
      "[CV] min_samples_leaf=2, min_samples_split=2, n_estimators=5, random_state=0 \n",
      "[CV]  min_samples_leaf=2, min_samples_split=2, n_estimators=5, random_state=0, total=   9.4s\n",
      "[CV] min_samples_leaf=2, min_samples_split=2, n_estimators=5, random_state=0 \n",
      "[CV]  min_samples_leaf=2, min_samples_split=2, n_estimators=5, random_state=0, total=  11.1s\n",
      "[CV] min_samples_leaf=2, min_samples_split=2, n_estimators=5, random_state=0 \n",
      "[CV]  min_samples_leaf=2, min_samples_split=2, n_estimators=5, random_state=0, total=  11.9s\n",
      "[CV] min_samples_leaf=2, min_samples_split=2, n_estimators=10, random_state=0 \n",
      "[CV]  min_samples_leaf=2, min_samples_split=2, n_estimators=10, random_state=0, total=  16.6s\n",
      "[CV] min_samples_leaf=2, min_samples_split=2, n_estimators=10, random_state=0 \n",
      "[CV]  min_samples_leaf=2, min_samples_split=2, n_estimators=10, random_state=0, total=  21.0s\n",
      "[CV] min_samples_leaf=2, min_samples_split=2, n_estimators=10, random_state=0 \n",
      "[CV]  min_samples_leaf=2, min_samples_split=2, n_estimators=10, random_state=0, total=  22.3s\n",
      "[CV] min_samples_leaf=2, min_samples_split=2, n_estimators=15, random_state=0 \n",
      "[CV]  min_samples_leaf=2, min_samples_split=2, n_estimators=15, random_state=0, total=  25.5s\n",
      "[CV] min_samples_leaf=2, min_samples_split=2, n_estimators=15, random_state=0 \n",
      "[CV]  min_samples_leaf=2, min_samples_split=2, n_estimators=15, random_state=0, total=  31.4s\n",
      "[CV] min_samples_leaf=2, min_samples_split=2, n_estimators=15, random_state=0 \n",
      "[CV]  min_samples_leaf=2, min_samples_split=2, n_estimators=15, random_state=0, total=  31.5s\n",
      "[CV] min_samples_leaf=2, min_samples_split=5, n_estimators=5, random_state=0 \n",
      "[CV]  min_samples_leaf=2, min_samples_split=5, n_estimators=5, random_state=0, total=   8.9s\n",
      "[CV] min_samples_leaf=2, min_samples_split=5, n_estimators=5, random_state=0 \n",
      "[CV]  min_samples_leaf=2, min_samples_split=5, n_estimators=5, random_state=0, total=  10.0s\n",
      "[CV] min_samples_leaf=2, min_samples_split=5, n_estimators=5, random_state=0 \n",
      "[CV]  min_samples_leaf=2, min_samples_split=5, n_estimators=5, random_state=0, total=  11.7s\n",
      "[CV] min_samples_leaf=2, min_samples_split=5, n_estimators=10, random_state=0 \n",
      "[CV]  min_samples_leaf=2, min_samples_split=5, n_estimators=10, random_state=0, total=  17.0s\n",
      "[CV] min_samples_leaf=2, min_samples_split=5, n_estimators=10, random_state=0 \n",
      "[CV]  min_samples_leaf=2, min_samples_split=5, n_estimators=10, random_state=0, total=  20.0s\n",
      "[CV] min_samples_leaf=2, min_samples_split=5, n_estimators=10, random_state=0 \n",
      "[CV]  min_samples_leaf=2, min_samples_split=5, n_estimators=10, random_state=0, total=  22.0s\n",
      "[CV] min_samples_leaf=2, min_samples_split=5, n_estimators=15, random_state=0 \n",
      "[CV]  min_samples_leaf=2, min_samples_split=5, n_estimators=15, random_state=0, total=  26.9s\n",
      "[CV] min_samples_leaf=2, min_samples_split=5, n_estimators=15, random_state=0 \n",
      "[CV]  min_samples_leaf=2, min_samples_split=5, n_estimators=15, random_state=0, total=  31.6s\n",
      "[CV] min_samples_leaf=2, min_samples_split=5, n_estimators=15, random_state=0 \n",
      "[CV]  min_samples_leaf=2, min_samples_split=5, n_estimators=15, random_state=0, total=  32.2s\n",
      "[CV] min_samples_leaf=2, min_samples_split=7, n_estimators=5, random_state=0 \n",
      "[CV]  min_samples_leaf=2, min_samples_split=7, n_estimators=5, random_state=0, total=   9.3s\n",
      "[CV] min_samples_leaf=2, min_samples_split=7, n_estimators=5, random_state=0 \n",
      "[CV]  min_samples_leaf=2, min_samples_split=7, n_estimators=5, random_state=0, total=  10.1s\n",
      "[CV] min_samples_leaf=2, min_samples_split=7, n_estimators=5, random_state=0 \n",
      "[CV]  min_samples_leaf=2, min_samples_split=7, n_estimators=5, random_state=0, total=  11.1s\n",
      "[CV] min_samples_leaf=2, min_samples_split=7, n_estimators=10, random_state=0 \n",
      "[CV]  min_samples_leaf=2, min_samples_split=7, n_estimators=10, random_state=0, total=  18.1s\n",
      "[CV] min_samples_leaf=2, min_samples_split=7, n_estimators=10, random_state=0 \n"
     ]
    },
    {
     "name": "stdout",
     "output_type": "stream",
     "text": [
      "[CV]  min_samples_leaf=2, min_samples_split=7, n_estimators=10, random_state=0, total=  19.2s\n",
      "[CV] min_samples_leaf=2, min_samples_split=7, n_estimators=10, random_state=0 \n",
      "[CV]  min_samples_leaf=2, min_samples_split=7, n_estimators=10, random_state=0, total=  20.2s\n",
      "[CV] min_samples_leaf=2, min_samples_split=7, n_estimators=15, random_state=0 \n",
      "[CV]  min_samples_leaf=2, min_samples_split=7, n_estimators=15, random_state=0, total=  27.1s\n",
      "[CV] min_samples_leaf=2, min_samples_split=7, n_estimators=15, random_state=0 \n",
      "[CV]  min_samples_leaf=2, min_samples_split=7, n_estimators=15, random_state=0, total=  30.0s\n",
      "[CV] min_samples_leaf=2, min_samples_split=7, n_estimators=15, random_state=0 \n",
      "[CV]  min_samples_leaf=2, min_samples_split=7, n_estimators=15, random_state=0, total=  30.7s\n",
      "[CV] min_samples_leaf=4, min_samples_split=2, n_estimators=5, random_state=0 \n",
      "[CV]  min_samples_leaf=4, min_samples_split=2, n_estimators=5, random_state=0, total=   9.2s\n",
      "[CV] min_samples_leaf=4, min_samples_split=2, n_estimators=5, random_state=0 \n",
      "[CV]  min_samples_leaf=4, min_samples_split=2, n_estimators=5, random_state=0, total=  10.2s\n",
      "[CV] min_samples_leaf=4, min_samples_split=2, n_estimators=5, random_state=0 \n",
      "[CV]  min_samples_leaf=4, min_samples_split=2, n_estimators=5, random_state=0, total=  10.2s\n",
      "[CV] min_samples_leaf=4, min_samples_split=2, n_estimators=10, random_state=0 \n",
      "[CV]  min_samples_leaf=4, min_samples_split=2, n_estimators=10, random_state=0, total=  17.9s\n",
      "[CV] min_samples_leaf=4, min_samples_split=2, n_estimators=10, random_state=0 \n",
      "[CV]  min_samples_leaf=4, min_samples_split=2, n_estimators=10, random_state=0, total=  21.5s\n",
      "[CV] min_samples_leaf=4, min_samples_split=2, n_estimators=10, random_state=0 \n",
      "[CV]  min_samples_leaf=4, min_samples_split=2, n_estimators=10, random_state=0, total=  21.7s\n",
      "[CV] min_samples_leaf=4, min_samples_split=2, n_estimators=15, random_state=0 \n",
      "[CV]  min_samples_leaf=4, min_samples_split=2, n_estimators=15, random_state=0, total=  27.3s\n",
      "[CV] min_samples_leaf=4, min_samples_split=2, n_estimators=15, random_state=0 \n",
      "[CV]  min_samples_leaf=4, min_samples_split=2, n_estimators=15, random_state=0, total=  29.6s\n",
      "[CV] min_samples_leaf=4, min_samples_split=2, n_estimators=15, random_state=0 \n",
      "[CV]  min_samples_leaf=4, min_samples_split=2, n_estimators=15, random_state=0, total=  28.8s\n",
      "[CV] min_samples_leaf=4, min_samples_split=5, n_estimators=5, random_state=0 \n",
      "[CV]  min_samples_leaf=4, min_samples_split=5, n_estimators=5, random_state=0, total=   9.5s\n",
      "[CV] min_samples_leaf=4, min_samples_split=5, n_estimators=5, random_state=0 \n",
      "[CV]  min_samples_leaf=4, min_samples_split=5, n_estimators=5, random_state=0, total=  10.8s\n",
      "[CV] min_samples_leaf=4, min_samples_split=5, n_estimators=5, random_state=0 \n",
      "[CV]  min_samples_leaf=4, min_samples_split=5, n_estimators=5, random_state=0, total=  10.6s\n",
      "[CV] min_samples_leaf=4, min_samples_split=5, n_estimators=10, random_state=0 \n",
      "[CV]  min_samples_leaf=4, min_samples_split=5, n_estimators=10, random_state=0, total=  18.1s\n",
      "[CV] min_samples_leaf=4, min_samples_split=5, n_estimators=10, random_state=0 \n",
      "[CV]  min_samples_leaf=4, min_samples_split=5, n_estimators=10, random_state=0, total=  19.9s\n",
      "[CV] min_samples_leaf=4, min_samples_split=5, n_estimators=10, random_state=0 \n",
      "[CV]  min_samples_leaf=4, min_samples_split=5, n_estimators=10, random_state=0, total=  20.6s\n",
      "[CV] min_samples_leaf=4, min_samples_split=5, n_estimators=15, random_state=0 \n",
      "[CV]  min_samples_leaf=4, min_samples_split=5, n_estimators=15, random_state=0, total=  26.6s\n",
      "[CV] min_samples_leaf=4, min_samples_split=5, n_estimators=15, random_state=0 \n",
      "[CV]  min_samples_leaf=4, min_samples_split=5, n_estimators=15, random_state=0, total=  29.5s\n",
      "[CV] min_samples_leaf=4, min_samples_split=5, n_estimators=15, random_state=0 \n",
      "[CV]  min_samples_leaf=4, min_samples_split=5, n_estimators=15, random_state=0, total=  29.3s\n",
      "[CV] min_samples_leaf=4, min_samples_split=7, n_estimators=5, random_state=0 \n",
      "[CV]  min_samples_leaf=4, min_samples_split=7, n_estimators=5, random_state=0, total=   9.7s\n",
      "[CV] min_samples_leaf=4, min_samples_split=7, n_estimators=5, random_state=0 \n",
      "[CV]  min_samples_leaf=4, min_samples_split=7, n_estimators=5, random_state=0, total=  10.1s\n",
      "[CV] min_samples_leaf=4, min_samples_split=7, n_estimators=5, random_state=0 \n",
      "[CV]  min_samples_leaf=4, min_samples_split=7, n_estimators=5, random_state=0, total=  10.5s\n",
      "[CV] min_samples_leaf=4, min_samples_split=7, n_estimators=10, random_state=0 \n",
      "[CV]  min_samples_leaf=4, min_samples_split=7, n_estimators=10, random_state=0, total=  18.4s\n",
      "[CV] min_samples_leaf=4, min_samples_split=7, n_estimators=10, random_state=0 \n",
      "[CV]  min_samples_leaf=4, min_samples_split=7, n_estimators=10, random_state=0, total=  19.7s\n",
      "[CV] min_samples_leaf=4, min_samples_split=7, n_estimators=10, random_state=0 \n",
      "[CV]  min_samples_leaf=4, min_samples_split=7, n_estimators=10, random_state=0, total=  20.0s\n",
      "[CV] min_samples_leaf=4, min_samples_split=7, n_estimators=15, random_state=0 \n",
      "[CV]  min_samples_leaf=4, min_samples_split=7, n_estimators=15, random_state=0, total=  27.6s\n",
      "[CV] min_samples_leaf=4, min_samples_split=7, n_estimators=15, random_state=0 \n",
      "[CV]  min_samples_leaf=4, min_samples_split=7, n_estimators=15, random_state=0, total=  29.0s\n",
      "[CV] min_samples_leaf=4, min_samples_split=7, n_estimators=15, random_state=0 \n",
      "[CV]  min_samples_leaf=4, min_samples_split=7, n_estimators=15, random_state=0, total=  29.2s\n"
     ]
    },
    {
     "name": "stderr",
     "output_type": "stream",
     "text": [
      "[Parallel(n_jobs=1)]: Done  81 out of  81 | elapsed: 26.6min finished\n"
     ]
    },
    {
     "name": "stdout",
     "output_type": "stream",
     "text": [
      "Best Parameters:  {'min_samples_leaf': 2, 'min_samples_split': 7, 'n_estimators': 15, 'random_state': 0}\n",
      "Score:  0.9995786664794073\n"
     ]
    }
   ],
   "source": [
    "\n",
    "\n",
    "rfc = RandomForestClassifier()\n",
    "\n",
    "params = {'n_estimators': [5,10,15],\n",
    "               'min_samples_split': [2,5,7],\n",
    "               'min_samples_leaf': [1,2,4],\n",
    "         'random_state': [0]}\n",
    "\n",
    "rfc_grid = GridSearchCV(rfc, params, cv = 3, verbose = 2)\n",
    "rfc_fit = rfc_grid.fit(x_train, y_train)\n",
    "score = rfc_grid.score(x_test, y_test)\n",
    "print('Best Parameters: ', rfc_fit.best_params_)\n",
    "print('Score: ',score)\n",
    "\n",
    "\n"
   ]
  },
  {
   "cell_type": "code",
   "execution_count": 13,
   "metadata": {},
   "outputs": [],
   "source": [
    "\n",
    "rfc2 = RandomForestClassifier(min_samples_leaf = 2, min_samples_split = 7, n_estimators = 15, random_state = 0)\n",
    "rfc2.fit(x_train,y_train)\n",
    "y_pred_rfc = rfc2.predict(x_test)"
   ]
  },
  {
   "cell_type": "code",
   "execution_count": 14,
   "metadata": {},
   "outputs": [
    {
     "name": "stdout",
     "output_type": "stream",
     "text": [
      "Accuracy:  0.9995786664794073\n",
      "Precision:  0.9310344827586207\n",
      "Recall:  0.7941176470588235\n",
      "F1 Score:  0.8571428571428571\n",
      "RMSE:  0.020526410319212558\n"
     ]
    }
   ],
   "source": [
    "acc_rfc = accuracy_score(y_test, y_pred_rfc)\n",
    "prec_rfc= precision_score(y_test,y_pred_rfc)\n",
    "rec_rfc= recall_score(y_test,y_pred_rfc)\n",
    "f1_rfc= f1_score(y_test,y_pred_rfc)\n",
    "rmse_rfc = np.sqrt(mean_squared_error(y_test, y_pred_rfc))\n",
    "\n",
    "proba_rfc = rfc2.predict_proba(x_test)\n",
    "\n",
    "print('Accuracy: ', acc_rfc)\n",
    "print('Precision: ', prec_rfc)\n",
    "print('Recall: ', rec_rfc)\n",
    "print('F1 Score: ', f1_rfc)\n",
    "print('RMSE: ', rmse_rfc)"
   ]
  },
  {
   "cell_type": "code",
   "execution_count": 15,
   "metadata": {},
   "outputs": [
    {
     "data": {
      "image/png": "[encoded data removed]",
      "text/plain": [
       "<Figure size 720x720 with 2 Axes>"
      ]
     },
     "metadata": {
      "needs_background": "light"
     },
     "output_type": "display_data"
    }
   ],
   "source": [
    "labels = ['Valid', 'Fraud']\n",
    "cm_rfc = confusion_matrix(y_test, y_pred_rfc)\n",
    "plt.figure(figsize=(10,10))\n",
    "sns.heatmap(cm_rfc,annot=True, fmt=\"d\", cmap = 'winter')\n",
    "plt.title('Random Forest Confusion matrix')\n",
    "plt.ylabel('True class')\n",
    "plt.xlabel('Predicted class')\n",
    "plt.show()\n"
   ]
  },
  {
   "cell_type": "markdown",
   "metadata": {},
   "source": [
    "# Decision Tree"
   ]
  },
  {
   "cell_type": "code",
   "execution_count": 192,
   "metadata": {},
   "outputs": [
    {
     "name": "stdout",
     "output_type": "stream",
     "text": [
      "Best Parameters:  {'max_depth': 4, 'min_samples_split': 6}\n",
      "Score:  0.9994733330992591\n"
     ]
    }
   ],
   "source": [
    "\n",
    "\n",
    "\n",
    "dtc = DecisionTreeClassifier()\n",
    "\n",
    "params = {'max_depth': [2,4,10], 'min_samples_split':[2,3,4,6,8,10], 'random_state': [0]}\n",
    "\n",
    "clf_dtc = GridSearchCV(dtc, params, cv = 3)\n",
    "\n",
    "dtc_fit= clf_dtc.fit(x_train, y_train)\n",
    "\n",
    "score = clf_dtc.score(x_test, y_test)\n",
    "\n",
    "print('Best Parameters: ', dtc_fit.best_params_)\n",
    "\n",
    "print('Score: ',score)"
   ]
  },
  {
   "cell_type": "code",
   "execution_count": 16,
   "metadata": {},
   "outputs": [],
   "source": [
    "#using best parameters\n",
    "dtc2 = DecisionTreeClassifier(max_depth= 4, min_samples_split= 6, random_state= 0)\n",
    "dtc2.fit(x_train, y_train)\n",
    "dtc2_score = dtc2.score(x_test, y_test)\n",
    "y_pred_dtc = dtc2.predict(x_test)"
   ]
  },
  {
   "cell_type": "code",
   "execution_count": 17,
   "metadata": {},
   "outputs": [
    {
     "name": "stdout",
     "output_type": "stream",
     "text": [
      "Score:  0.9994148145547324\n",
      "Precision:  0.864406779661017\n",
      "Recall:  0.75\n",
      "F1 Score:  0.8031496062992127\n",
      "RMSE:  0.024190606550221212\n"
     ]
    }
   ],
   "source": [
    "prec_dtc= precision_score(y_test,y_pred_dtc)\n",
    "rec_dtc= recall_score(y_test,y_pred_dtc)\n",
    "f1_dtc= f1_score(y_test,y_pred_dtc)\n",
    "rmse_dtc = np.sqrt(mean_squared_error(y_test, y_pred_dtc))\n",
    "\n",
    "proba_dtc = dtc2.predict_proba(x_test)\n",
    "\n",
    "\n",
    "print('Score: ', dtc2_score)\n",
    "print('Precision: ', prec_dtc)\n",
    "print('Recall: ', rec_dtc)\n",
    "print('F1 Score: ', f1_dtc)\n",
    "print('RMSE: ', rmse_dtc)"
   ]
  },
  {
   "cell_type": "code",
   "execution_count": 18,
   "metadata": {},
   "outputs": [
    {
     "data": {
      "image/png": "[encoded data removed]",
      "text/plain": [
       "<Figure size 720x720 with 2 Axes>"
      ]
     },
     "metadata": {
      "needs_background": "light"
     },
     "output_type": "display_data"
    }
   ],
   "source": [
    "labels = ['Valid', 'Fraud']\n",
    "cm_dtc = confusion_matrix(y_test, y_pred_dtc)\n",
    "plt.figure(figsize=(10,10))\n",
    "sns.heatmap(cm_dtc,annot=True, fmt=\"d\", cmap = 'winter')\n",
    "plt.title('Decision Tree Confusion matrix')\n",
    "plt.ylabel('True class')\n",
    "plt.xlabel('Predicted class')\n",
    "plt.show()\n"
   ]
  },
  {
   "cell_type": "markdown",
   "metadata": {},
   "source": [
    "# Gradient Boosting Classifier\n"
   ]
  },
  {
   "cell_type": "code",
   "execution_count": 9,
   "metadata": {},
   "outputs": [
    {
     "name": "stdout",
     "output_type": "stream",
     "text": [
      "Fitting 3 folds for each of 96 candidates, totalling 288 fits\n",
      "[CV] learning_rate=0.01, min_samples_leaf=2, min_samples_split=2, n_estimators=5, random_state=0 \n"
     ]
    },
    {
     "name": "stderr",
     "output_type": "stream",
     "text": [
      "[Parallel(n_jobs=1)]: Using backend SequentialBackend with 1 concurrent workers.\n"
     ]
    },
    {
     "name": "stdout",
     "output_type": "stream",
     "text": [
      "[CV]  learning_rate=0.01, min_samples_leaf=2, min_samples_split=2, n_estimators=5, random_state=0, total=  19.7s\n",
      "[CV] learning_rate=0.01, min_samples_leaf=2, min_samples_split=2, n_estimators=5, random_state=0 \n"
     ]
    },
    {
     "name": "stderr",
     "output_type": "stream",
     "text": [
      "[Parallel(n_jobs=1)]: Done   1 out of   1 | elapsed:   19.6s remaining:    0.0s\n"
     ]
    },
    {
     "name": "stdout",
     "output_type": "stream",
     "text": [
      "[CV]  learning_rate=0.01, min_samples_leaf=2, min_samples_split=2, n_estimators=5, random_state=0, total=  20.2s\n",
      "[CV] learning_rate=0.01, min_samples_leaf=2, min_samples_split=2, n_estimators=5, random_state=0 \n",
      "[CV]  learning_rate=0.01, min_samples_leaf=2, min_samples_split=2, n_estimators=5, random_state=0, total=  21.5s\n",
      "[CV] learning_rate=0.01, min_samples_leaf=2, min_samples_split=2, n_estimators=10, random_state=0 \n",
      "[CV]  learning_rate=0.01, min_samples_leaf=2, min_samples_split=2, n_estimators=10, random_state=0, total=  41.6s\n",
      "[CV] learning_rate=0.01, min_samples_leaf=2, min_samples_split=2, n_estimators=10, random_state=0 \n",
      "[CV]  learning_rate=0.01, min_samples_leaf=2, min_samples_split=2, n_estimators=10, random_state=0, total=  39.6s\n",
      "[CV] learning_rate=0.01, min_samples_leaf=2, min_samples_split=2, n_estimators=10, random_state=0 \n",
      "[CV]  learning_rate=0.01, min_samples_leaf=2, min_samples_split=2, n_estimators=10, random_state=0, total=  35.8s\n",
      "[CV] learning_rate=0.01, min_samples_leaf=2, min_samples_split=2, n_estimators=15, random_state=0 \n",
      "[CV]  learning_rate=0.01, min_samples_leaf=2, min_samples_split=2, n_estimators=15, random_state=0, total=  57.9s\n",
      "[CV] learning_rate=0.01, min_samples_leaf=2, min_samples_split=2, n_estimators=15, random_state=0 \n",
      "[CV]  learning_rate=0.01, min_samples_leaf=2, min_samples_split=2, n_estimators=15, random_state=0, total=  57.7s\n",
      "[CV] learning_rate=0.01, min_samples_leaf=2, min_samples_split=2, n_estimators=15, random_state=0 \n",
      "[CV]  learning_rate=0.01, min_samples_leaf=2, min_samples_split=2, n_estimators=15, random_state=0, total=  50.7s\n",
      "[CV] learning_rate=0.01, min_samples_leaf=2, min_samples_split=5, n_estimators=5, random_state=0 \n",
      "[CV]  learning_rate=0.01, min_samples_leaf=2, min_samples_split=5, n_estimators=5, random_state=0, total=  16.0s\n",
      "[CV] learning_rate=0.01, min_samples_leaf=2, min_samples_split=5, n_estimators=5, random_state=0 \n",
      "[CV]  learning_rate=0.01, min_samples_leaf=2, min_samples_split=5, n_estimators=5, random_state=0, total=  16.5s\n",
      "[CV] learning_rate=0.01, min_samples_leaf=2, min_samples_split=5, n_estimators=5, random_state=0 \n",
      "[CV]  learning_rate=0.01, min_samples_leaf=2, min_samples_split=5, n_estimators=5, random_state=0, total=  16.2s\n",
      "[CV] learning_rate=0.01, min_samples_leaf=2, min_samples_split=5, n_estimators=10, random_state=0 \n",
      "[CV]  learning_rate=0.01, min_samples_leaf=2, min_samples_split=5, n_estimators=10, random_state=0, total=  34.3s\n",
      "[CV] learning_rate=0.01, min_samples_leaf=2, min_samples_split=5, n_estimators=10, random_state=0 \n",
      "[CV]  learning_rate=0.01, min_samples_leaf=2, min_samples_split=5, n_estimators=10, random_state=0, total=  40.0s\n",
      "[CV] learning_rate=0.01, min_samples_leaf=2, min_samples_split=5, n_estimators=10, random_state=0 \n",
      "[CV]  learning_rate=0.01, min_samples_leaf=2, min_samples_split=5, n_estimators=10, random_state=0, total=  40.2s\n",
      "[CV] learning_rate=0.01, min_samples_leaf=2, min_samples_split=5, n_estimators=15, random_state=0 \n",
      "[CV]  learning_rate=0.01, min_samples_leaf=2, min_samples_split=5, n_estimators=15, random_state=0, total=  59.8s\n",
      "[CV] learning_rate=0.01, min_samples_leaf=2, min_samples_split=5, n_estimators=15, random_state=0 \n",
      "[CV]  learning_rate=0.01, min_samples_leaf=2, min_samples_split=5, n_estimators=15, random_state=0, total= 1.0min\n",
      "[CV] learning_rate=0.01, min_samples_leaf=2, min_samples_split=5, n_estimators=15, random_state=0 \n",
      "[CV]  learning_rate=0.01, min_samples_leaf=2, min_samples_split=5, n_estimators=15, random_state=0, total=  52.3s\n",
      "[CV] learning_rate=0.01, min_samples_leaf=2, min_samples_split=6, n_estimators=5, random_state=0 \n",
      "[CV]  learning_rate=0.01, min_samples_leaf=2, min_samples_split=6, n_estimators=5, random_state=0, total=  17.2s\n",
      "[CV] learning_rate=0.01, min_samples_leaf=2, min_samples_split=6, n_estimators=5, random_state=0 \n",
      "[CV]  learning_rate=0.01, min_samples_leaf=2, min_samples_split=6, n_estimators=5, random_state=0, total=  17.9s\n",
      "[CV] learning_rate=0.01, min_samples_leaf=2, min_samples_split=6, n_estimators=5, random_state=0 \n",
      "[CV]  learning_rate=0.01, min_samples_leaf=2, min_samples_split=6, n_estimators=5, random_state=0, total=  17.4s\n",
      "[CV] learning_rate=0.01, min_samples_leaf=2, min_samples_split=6, n_estimators=10, random_state=0 \n",
      "[CV]  learning_rate=0.01, min_samples_leaf=2, min_samples_split=6, n_estimators=10, random_state=0, total=  33.8s\n",
      "[CV] learning_rate=0.01, min_samples_leaf=2, min_samples_split=6, n_estimators=10, random_state=0 \n",
      "[CV]  learning_rate=0.01, min_samples_leaf=2, min_samples_split=6, n_estimators=10, random_state=0, total=  35.1s\n",
      "[CV] learning_rate=0.01, min_samples_leaf=2, min_samples_split=6, n_estimators=10, random_state=0 \n",
      "[CV]  learning_rate=0.01, min_samples_leaf=2, min_samples_split=6, n_estimators=10, random_state=0, total=  34.3s\n",
      "[CV] learning_rate=0.01, min_samples_leaf=2, min_samples_split=6, n_estimators=15, random_state=0 \n",
      "[CV]  learning_rate=0.01, min_samples_leaf=2, min_samples_split=6, n_estimators=15, random_state=0, total=  52.0s\n",
      "[CV] learning_rate=0.01, min_samples_leaf=2, min_samples_split=6, n_estimators=15, random_state=0 \n",
      "[CV]  learning_rate=0.01, min_samples_leaf=2, min_samples_split=6, n_estimators=15, random_state=0, total=  53.7s\n",
      "[CV] learning_rate=0.01, min_samples_leaf=2, min_samples_split=6, n_estimators=15, random_state=0 \n",
      "[CV]  learning_rate=0.01, min_samples_leaf=2, min_samples_split=6, n_estimators=15, random_state=0, total=  55.0s\n",
      "[CV] learning_rate=0.01, min_samples_leaf=2, min_samples_split=7, n_estimators=5, random_state=0 \n",
      "[CV]  learning_rate=0.01, min_samples_leaf=2, min_samples_split=7, n_estimators=5, random_state=0, total=  18.9s\n",
      "[CV] learning_rate=0.01, min_samples_leaf=2, min_samples_split=7, n_estimators=5, random_state=0 \n",
      "[CV]  learning_rate=0.01, min_samples_leaf=2, min_samples_split=7, n_estimators=5, random_state=0, total=  19.4s\n",
      "[CV] learning_rate=0.01, min_samples_leaf=2, min_samples_split=7, n_estimators=5, random_state=0 \n",
      "[CV]  learning_rate=0.01, min_samples_leaf=2, min_samples_split=7, n_estimators=5, random_state=0, total=  19.0s\n",
      "[CV] learning_rate=0.01, min_samples_leaf=2, min_samples_split=7, n_estimators=10, random_state=0 \n",
      "[CV]  learning_rate=0.01, min_samples_leaf=2, min_samples_split=7, n_estimators=10, random_state=0, total=  34.3s\n",
      "[CV] learning_rate=0.01, min_samples_leaf=2, min_samples_split=7, n_estimators=10, random_state=0 \n",
      "[CV]  learning_rate=0.01, min_samples_leaf=2, min_samples_split=7, n_estimators=10, random_state=0, total=  34.7s\n",
      "[CV] learning_rate=0.01, min_samples_leaf=2, min_samples_split=7, n_estimators=10, random_state=0 \n",
      "[CV]  learning_rate=0.01, min_samples_leaf=2, min_samples_split=7, n_estimators=10, random_state=0, total=  34.4s\n",
      "[CV] learning_rate=0.01, min_samples_leaf=2, min_samples_split=7, n_estimators=15, random_state=0 \n",
      "[CV]  learning_rate=0.01, min_samples_leaf=2, min_samples_split=7, n_estimators=15, random_state=0, total=  54.0s\n",
      "[CV] learning_rate=0.01, min_samples_leaf=2, min_samples_split=7, n_estimators=15, random_state=0 \n",
      "[CV]  learning_rate=0.01, min_samples_leaf=2, min_samples_split=7, n_estimators=15, random_state=0, total=  54.7s\n",
      "[CV] learning_rate=0.01, min_samples_leaf=2, min_samples_split=7, n_estimators=15, random_state=0 \n",
      "[CV]  learning_rate=0.01, min_samples_leaf=2, min_samples_split=7, n_estimators=15, random_state=0, total=  53.2s\n",
      "[CV] learning_rate=0.01, min_samples_leaf=4, min_samples_split=2, n_estimators=5, random_state=0 \n",
      "[CV]  learning_rate=0.01, min_samples_leaf=4, min_samples_split=2, n_estimators=5, random_state=0, total=  16.9s\n",
      "[CV] learning_rate=0.01, min_samples_leaf=4, min_samples_split=2, n_estimators=5, random_state=0 \n",
      "[CV]  learning_rate=0.01, min_samples_leaf=4, min_samples_split=2, n_estimators=5, random_state=0, total=  17.1s\n",
      "[CV] learning_rate=0.01, min_samples_leaf=4, min_samples_split=2, n_estimators=5, random_state=0 \n",
      "[CV]  learning_rate=0.01, min_samples_leaf=4, min_samples_split=2, n_estimators=5, random_state=0, total=  17.3s\n",
      "[CV] learning_rate=0.01, min_samples_leaf=4, min_samples_split=2, n_estimators=10, random_state=0 \n",
      "[CV]  learning_rate=0.01, min_samples_leaf=4, min_samples_split=2, n_estimators=10, random_state=0, total=  34.4s\n",
      "[CV] learning_rate=0.01, min_samples_leaf=4, min_samples_split=2, n_estimators=10, random_state=0 \n"
     ]
    },
    {
     "name": "stdout",
     "output_type": "stream",
     "text": [
      "[CV]  learning_rate=0.01, min_samples_leaf=4, min_samples_split=2, n_estimators=10, random_state=0, total=  34.6s\n",
      "[CV] learning_rate=0.01, min_samples_leaf=4, min_samples_split=2, n_estimators=10, random_state=0 \n",
      "[CV]  learning_rate=0.01, min_samples_leaf=4, min_samples_split=2, n_estimators=10, random_state=0, total=  34.5s\n",
      "[CV] learning_rate=0.01, min_samples_leaf=4, min_samples_split=2, n_estimators=15, random_state=0 \n",
      "[CV]  learning_rate=0.01, min_samples_leaf=4, min_samples_split=2, n_estimators=15, random_state=0, total=  53.2s\n",
      "[CV] learning_rate=0.01, min_samples_leaf=4, min_samples_split=2, n_estimators=15, random_state=0 \n",
      "[CV]  learning_rate=0.01, min_samples_leaf=4, min_samples_split=2, n_estimators=15, random_state=0, total=  51.4s\n",
      "[CV] learning_rate=0.01, min_samples_leaf=4, min_samples_split=2, n_estimators=15, random_state=0 \n",
      "[CV]  learning_rate=0.01, min_samples_leaf=4, min_samples_split=2, n_estimators=15, random_state=0, total=  52.1s\n",
      "[CV] learning_rate=0.01, min_samples_leaf=4, min_samples_split=5, n_estimators=5, random_state=0 \n",
      "[CV]  learning_rate=0.01, min_samples_leaf=4, min_samples_split=5, n_estimators=5, random_state=0, total=  17.4s\n",
      "[CV] learning_rate=0.01, min_samples_leaf=4, min_samples_split=5, n_estimators=5, random_state=0 \n",
      "[CV]  learning_rate=0.01, min_samples_leaf=4, min_samples_split=5, n_estimators=5, random_state=0, total=  17.4s\n",
      "[CV] learning_rate=0.01, min_samples_leaf=4, min_samples_split=5, n_estimators=5, random_state=0 \n",
      "[CV]  learning_rate=0.01, min_samples_leaf=4, min_samples_split=5, n_estimators=5, random_state=0, total=  17.6s\n",
      "[CV] learning_rate=0.01, min_samples_leaf=4, min_samples_split=5, n_estimators=10, random_state=0 \n",
      "[CV]  learning_rate=0.01, min_samples_leaf=4, min_samples_split=5, n_estimators=10, random_state=0, total=  34.8s\n",
      "[CV] learning_rate=0.01, min_samples_leaf=4, min_samples_split=5, n_estimators=10, random_state=0 \n",
      "[CV]  learning_rate=0.01, min_samples_leaf=4, min_samples_split=5, n_estimators=10, random_state=0, total=  34.3s\n",
      "[CV] learning_rate=0.01, min_samples_leaf=4, min_samples_split=5, n_estimators=10, random_state=0 \n",
      "[CV]  learning_rate=0.01, min_samples_leaf=4, min_samples_split=5, n_estimators=10, random_state=0, total=  37.6s\n",
      "[CV] learning_rate=0.01, min_samples_leaf=4, min_samples_split=5, n_estimators=15, random_state=0 \n",
      "[CV]  learning_rate=0.01, min_samples_leaf=4, min_samples_split=5, n_estimators=15, random_state=0, total=  52.0s\n",
      "[CV] learning_rate=0.01, min_samples_leaf=4, min_samples_split=5, n_estimators=15, random_state=0 \n",
      "[CV]  learning_rate=0.01, min_samples_leaf=4, min_samples_split=5, n_estimators=15, random_state=0, total=  54.9s\n",
      "[CV] learning_rate=0.01, min_samples_leaf=4, min_samples_split=5, n_estimators=15, random_state=0 \n",
      "[CV]  learning_rate=0.01, min_samples_leaf=4, min_samples_split=5, n_estimators=15, random_state=0, total=  52.7s\n",
      "[CV] learning_rate=0.01, min_samples_leaf=4, min_samples_split=6, n_estimators=5, random_state=0 \n",
      "[CV]  learning_rate=0.01, min_samples_leaf=4, min_samples_split=6, n_estimators=5, random_state=0, total=  18.5s\n",
      "[CV] learning_rate=0.01, min_samples_leaf=4, min_samples_split=6, n_estimators=5, random_state=0 \n",
      "[CV]  learning_rate=0.01, min_samples_leaf=4, min_samples_split=6, n_estimators=5, random_state=0, total=  17.7s\n",
      "[CV] learning_rate=0.01, min_samples_leaf=4, min_samples_split=6, n_estimators=5, random_state=0 \n",
      "[CV]  learning_rate=0.01, min_samples_leaf=4, min_samples_split=6, n_estimators=5, random_state=0, total=  17.3s\n",
      "[CV] learning_rate=0.01, min_samples_leaf=4, min_samples_split=6, n_estimators=10, random_state=0 \n",
      "[CV]  learning_rate=0.01, min_samples_leaf=4, min_samples_split=6, n_estimators=10, random_state=0, total=  35.3s\n",
      "[CV] learning_rate=0.01, min_samples_leaf=4, min_samples_split=6, n_estimators=10, random_state=0 \n",
      "[CV]  learning_rate=0.01, min_samples_leaf=4, min_samples_split=6, n_estimators=10, random_state=0, total=  35.4s\n",
      "[CV] learning_rate=0.01, min_samples_leaf=4, min_samples_split=6, n_estimators=10, random_state=0 \n",
      "[CV]  learning_rate=0.01, min_samples_leaf=4, min_samples_split=6, n_estimators=10, random_state=0, total=  35.1s\n",
      "[CV] learning_rate=0.01, min_samples_leaf=4, min_samples_split=6, n_estimators=15, random_state=0 \n",
      "[CV]  learning_rate=0.01, min_samples_leaf=4, min_samples_split=6, n_estimators=15, random_state=0, total=  52.0s\n",
      "[CV] learning_rate=0.01, min_samples_leaf=4, min_samples_split=6, n_estimators=15, random_state=0 \n",
      "[CV]  learning_rate=0.01, min_samples_leaf=4, min_samples_split=6, n_estimators=15, random_state=0, total=  52.1s\n",
      "[CV] learning_rate=0.01, min_samples_leaf=4, min_samples_split=6, n_estimators=15, random_state=0 \n",
      "[CV]  learning_rate=0.01, min_samples_leaf=4, min_samples_split=6, n_estimators=15, random_state=0, total=  52.1s\n",
      "[CV] learning_rate=0.01, min_samples_leaf=4, min_samples_split=7, n_estimators=5, random_state=0 \n",
      "[CV]  learning_rate=0.01, min_samples_leaf=4, min_samples_split=7, n_estimators=5, random_state=0, total=  17.3s\n",
      "[CV] learning_rate=0.01, min_samples_leaf=4, min_samples_split=7, n_estimators=5, random_state=0 \n",
      "[CV]  learning_rate=0.01, min_samples_leaf=4, min_samples_split=7, n_estimators=5, random_state=0, total=  17.4s\n",
      "[CV] learning_rate=0.01, min_samples_leaf=4, min_samples_split=7, n_estimators=5, random_state=0 \n",
      "[CV]  learning_rate=0.01, min_samples_leaf=4, min_samples_split=7, n_estimators=5, random_state=0, total=  17.4s\n",
      "[CV] learning_rate=0.01, min_samples_leaf=4, min_samples_split=7, n_estimators=10, random_state=0 \n",
      "[CV]  learning_rate=0.01, min_samples_leaf=4, min_samples_split=7, n_estimators=10, random_state=0, total=  34.3s\n",
      "[CV] learning_rate=0.01, min_samples_leaf=4, min_samples_split=7, n_estimators=10, random_state=0 \n",
      "[CV]  learning_rate=0.01, min_samples_leaf=4, min_samples_split=7, n_estimators=10, random_state=0, total=  37.6s\n",
      "[CV] learning_rate=0.01, min_samples_leaf=4, min_samples_split=7, n_estimators=10, random_state=0 \n",
      "[CV]  learning_rate=0.01, min_samples_leaf=4, min_samples_split=7, n_estimators=10, random_state=0, total=  36.0s\n",
      "[CV] learning_rate=0.01, min_samples_leaf=4, min_samples_split=7, n_estimators=15, random_state=0 \n",
      "[CV]  learning_rate=0.01, min_samples_leaf=4, min_samples_split=7, n_estimators=15, random_state=0, total=  52.1s\n",
      "[CV] learning_rate=0.01, min_samples_leaf=4, min_samples_split=7, n_estimators=15, random_state=0 \n",
      "[CV]  learning_rate=0.01, min_samples_leaf=4, min_samples_split=7, n_estimators=15, random_state=0, total=  59.6s\n",
      "[CV] learning_rate=0.01, min_samples_leaf=4, min_samples_split=7, n_estimators=15, random_state=0 \n",
      "[CV]  learning_rate=0.01, min_samples_leaf=4, min_samples_split=7, n_estimators=15, random_state=0, total=  57.9s\n",
      "[CV] learning_rate=0.01, min_samples_leaf=6, min_samples_split=2, n_estimators=5, random_state=0 \n",
      "[CV]  learning_rate=0.01, min_samples_leaf=6, min_samples_split=2, n_estimators=5, random_state=0, total=  17.5s\n",
      "[CV] learning_rate=0.01, min_samples_leaf=6, min_samples_split=2, n_estimators=5, random_state=0 \n",
      "[CV]  learning_rate=0.01, min_samples_leaf=6, min_samples_split=2, n_estimators=5, random_state=0, total=  17.8s\n",
      "[CV] learning_rate=0.01, min_samples_leaf=6, min_samples_split=2, n_estimators=5, random_state=0 \n",
      "[CV]  learning_rate=0.01, min_samples_leaf=6, min_samples_split=2, n_estimators=5, random_state=0, total=  17.2s\n",
      "[CV] learning_rate=0.01, min_samples_leaf=6, min_samples_split=2, n_estimators=10, random_state=0 \n",
      "[CV]  learning_rate=0.01, min_samples_leaf=6, min_samples_split=2, n_estimators=10, random_state=0, total=  35.6s\n",
      "[CV] learning_rate=0.01, min_samples_leaf=6, min_samples_split=2, n_estimators=10, random_state=0 \n",
      "[CV]  learning_rate=0.01, min_samples_leaf=6, min_samples_split=2, n_estimators=10, random_state=0, total=  34.9s\n",
      "[CV] learning_rate=0.01, min_samples_leaf=6, min_samples_split=2, n_estimators=10, random_state=0 \n",
      "[CV]  learning_rate=0.01, min_samples_leaf=6, min_samples_split=2, n_estimators=10, random_state=0, total=  34.7s\n",
      "[CV] learning_rate=0.01, min_samples_leaf=6, min_samples_split=2, n_estimators=15, random_state=0 \n",
      "[CV]  learning_rate=0.01, min_samples_leaf=6, min_samples_split=2, n_estimators=15, random_state=0, total=  51.9s\n",
      "[CV] learning_rate=0.01, min_samples_leaf=6, min_samples_split=2, n_estimators=15, random_state=0 \n"
     ]
    },
    {
     "name": "stdout",
     "output_type": "stream",
     "text": [
      "[CV]  learning_rate=0.01, min_samples_leaf=6, min_samples_split=2, n_estimators=15, random_state=0, total=  55.4s\n",
      "[CV] learning_rate=0.01, min_samples_leaf=6, min_samples_split=2, n_estimators=15, random_state=0 \n",
      "[CV]  learning_rate=0.01, min_samples_leaf=6, min_samples_split=2, n_estimators=15, random_state=0, total=  54.3s\n",
      "[CV] learning_rate=0.01, min_samples_leaf=6, min_samples_split=5, n_estimators=5, random_state=0 \n",
      "[CV]  learning_rate=0.01, min_samples_leaf=6, min_samples_split=5, n_estimators=5, random_state=0, total=  18.2s\n",
      "[CV] learning_rate=0.01, min_samples_leaf=6, min_samples_split=5, n_estimators=5, random_state=0 \n",
      "[CV]  learning_rate=0.01, min_samples_leaf=6, min_samples_split=5, n_estimators=5, random_state=0, total=  19.2s\n",
      "[CV] learning_rate=0.01, min_samples_leaf=6, min_samples_split=5, n_estimators=5, random_state=0 \n",
      "[CV]  learning_rate=0.01, min_samples_leaf=6, min_samples_split=5, n_estimators=5, random_state=0, total=  20.2s\n",
      "[CV] learning_rate=0.01, min_samples_leaf=6, min_samples_split=5, n_estimators=10, random_state=0 \n",
      "[CV]  learning_rate=0.01, min_samples_leaf=6, min_samples_split=5, n_estimators=10, random_state=0, total=  36.1s\n",
      "[CV] learning_rate=0.01, min_samples_leaf=6, min_samples_split=5, n_estimators=10, random_state=0 \n",
      "[CV]  learning_rate=0.01, min_samples_leaf=6, min_samples_split=5, n_estimators=10, random_state=0, total=  34.3s\n",
      "[CV] learning_rate=0.01, min_samples_leaf=6, min_samples_split=5, n_estimators=10, random_state=0 \n",
      "[CV]  learning_rate=0.01, min_samples_leaf=6, min_samples_split=5, n_estimators=10, random_state=0, total=  35.7s\n",
      "[CV] learning_rate=0.01, min_samples_leaf=6, min_samples_split=5, n_estimators=15, random_state=0 \n",
      "[CV]  learning_rate=0.01, min_samples_leaf=6, min_samples_split=5, n_estimators=15, random_state=0, total=  52.2s\n",
      "[CV] learning_rate=0.01, min_samples_leaf=6, min_samples_split=5, n_estimators=15, random_state=0 \n",
      "[CV]  learning_rate=0.01, min_samples_leaf=6, min_samples_split=5, n_estimators=15, random_state=0, total=  52.6s\n",
      "[CV] learning_rate=0.01, min_samples_leaf=6, min_samples_split=5, n_estimators=15, random_state=0 \n",
      "[CV]  learning_rate=0.01, min_samples_leaf=6, min_samples_split=5, n_estimators=15, random_state=0, total=  52.6s\n",
      "[CV] learning_rate=0.01, min_samples_leaf=6, min_samples_split=6, n_estimators=5, random_state=0 \n",
      "[CV]  learning_rate=0.01, min_samples_leaf=6, min_samples_split=6, n_estimators=5, random_state=0, total=  18.1s\n",
      "[CV] learning_rate=0.01, min_samples_leaf=6, min_samples_split=6, n_estimators=5, random_state=0 \n",
      "[CV]  learning_rate=0.01, min_samples_leaf=6, min_samples_split=6, n_estimators=5, random_state=0, total=  18.1s\n",
      "[CV] learning_rate=0.01, min_samples_leaf=6, min_samples_split=6, n_estimators=5, random_state=0 \n",
      "[CV]  learning_rate=0.01, min_samples_leaf=6, min_samples_split=6, n_estimators=5, random_state=0, total=  19.5s\n",
      "[CV] learning_rate=0.01, min_samples_leaf=6, min_samples_split=6, n_estimators=10, random_state=0 \n",
      "[CV]  learning_rate=0.01, min_samples_leaf=6, min_samples_split=6, n_estimators=10, random_state=0, total=  36.3s\n",
      "[CV] learning_rate=0.01, min_samples_leaf=6, min_samples_split=6, n_estimators=10, random_state=0 \n",
      "[CV]  learning_rate=0.01, min_samples_leaf=6, min_samples_split=6, n_estimators=10, random_state=0, total=  35.2s\n",
      "[CV] learning_rate=0.01, min_samples_leaf=6, min_samples_split=6, n_estimators=10, random_state=0 \n",
      "[CV]  learning_rate=0.01, min_samples_leaf=6, min_samples_split=6, n_estimators=10, random_state=0, total=  35.1s\n",
      "[CV] learning_rate=0.01, min_samples_leaf=6, min_samples_split=6, n_estimators=15, random_state=0 \n",
      "[CV]  learning_rate=0.01, min_samples_leaf=6, min_samples_split=6, n_estimators=15, random_state=0, total=  52.7s\n",
      "[CV] learning_rate=0.01, min_samples_leaf=6, min_samples_split=6, n_estimators=15, random_state=0 \n",
      "[CV]  learning_rate=0.01, min_samples_leaf=6, min_samples_split=6, n_estimators=15, random_state=0, total=  52.0s\n",
      "[CV] learning_rate=0.01, min_samples_leaf=6, min_samples_split=6, n_estimators=15, random_state=0 \n",
      "[CV]  learning_rate=0.01, min_samples_leaf=6, min_samples_split=6, n_estimators=15, random_state=0, total=  51.9s\n",
      "[CV] learning_rate=0.01, min_samples_leaf=6, min_samples_split=7, n_estimators=5, random_state=0 \n",
      "[CV]  learning_rate=0.01, min_samples_leaf=6, min_samples_split=7, n_estimators=5, random_state=0, total=  19.6s\n",
      "[CV] learning_rate=0.01, min_samples_leaf=6, min_samples_split=7, n_estimators=5, random_state=0 \n",
      "[CV]  learning_rate=0.01, min_samples_leaf=6, min_samples_split=7, n_estimators=5, random_state=0, total=  18.0s\n",
      "[CV] learning_rate=0.01, min_samples_leaf=6, min_samples_split=7, n_estimators=5, random_state=0 \n",
      "[CV]  learning_rate=0.01, min_samples_leaf=6, min_samples_split=7, n_estimators=5, random_state=0, total=  18.2s\n",
      "[CV] learning_rate=0.01, min_samples_leaf=6, min_samples_split=7, n_estimators=10, random_state=0 \n",
      "[CV]  learning_rate=0.01, min_samples_leaf=6, min_samples_split=7, n_estimators=10, random_state=0, total=  34.9s\n",
      "[CV] learning_rate=0.01, min_samples_leaf=6, min_samples_split=7, n_estimators=10, random_state=0 \n",
      "[CV]  learning_rate=0.01, min_samples_leaf=6, min_samples_split=7, n_estimators=10, random_state=0, total=  35.5s\n",
      "[CV] learning_rate=0.01, min_samples_leaf=6, min_samples_split=7, n_estimators=10, random_state=0 \n",
      "[CV]  learning_rate=0.01, min_samples_leaf=6, min_samples_split=7, n_estimators=10, random_state=0, total=  34.5s\n",
      "[CV] learning_rate=0.01, min_samples_leaf=6, min_samples_split=7, n_estimators=15, random_state=0 \n",
      "[CV]  learning_rate=0.01, min_samples_leaf=6, min_samples_split=7, n_estimators=15, random_state=0, total=  52.2s\n",
      "[CV] learning_rate=0.01, min_samples_leaf=6, min_samples_split=7, n_estimators=15, random_state=0 \n",
      "[CV]  learning_rate=0.01, min_samples_leaf=6, min_samples_split=7, n_estimators=15, random_state=0, total=  52.0s\n",
      "[CV] learning_rate=0.01, min_samples_leaf=6, min_samples_split=7, n_estimators=15, random_state=0 \n",
      "[CV]  learning_rate=0.01, min_samples_leaf=6, min_samples_split=7, n_estimators=15, random_state=0, total=  48.2s\n",
      "[CV] learning_rate=0.01, min_samples_leaf=8, min_samples_split=2, n_estimators=5, random_state=0 \n",
      "[CV]  learning_rate=0.01, min_samples_leaf=8, min_samples_split=2, n_estimators=5, random_state=0, total=  16.3s\n",
      "[CV] learning_rate=0.01, min_samples_leaf=8, min_samples_split=2, n_estimators=5, random_state=0 \n",
      "[CV]  learning_rate=0.01, min_samples_leaf=8, min_samples_split=2, n_estimators=5, random_state=0, total=  15.8s\n",
      "[CV] learning_rate=0.01, min_samples_leaf=8, min_samples_split=2, n_estimators=5, random_state=0 \n",
      "[CV]  learning_rate=0.01, min_samples_leaf=8, min_samples_split=2, n_estimators=5, random_state=0, total=  16.0s\n",
      "[CV] learning_rate=0.01, min_samples_leaf=8, min_samples_split=2, n_estimators=10, random_state=0 \n",
      "[CV]  learning_rate=0.01, min_samples_leaf=8, min_samples_split=2, n_estimators=10, random_state=0, total=  32.0s\n",
      "[CV] learning_rate=0.01, min_samples_leaf=8, min_samples_split=2, n_estimators=10, random_state=0 \n",
      "[CV]  learning_rate=0.01, min_samples_leaf=8, min_samples_split=2, n_estimators=10, random_state=0, total=  31.7s\n",
      "[CV] learning_rate=0.01, min_samples_leaf=8, min_samples_split=2, n_estimators=10, random_state=0 \n",
      "[CV]  learning_rate=0.01, min_samples_leaf=8, min_samples_split=2, n_estimators=10, random_state=0, total=  32.1s\n",
      "[CV] learning_rate=0.01, min_samples_leaf=8, min_samples_split=2, n_estimators=15, random_state=0 \n",
      "[CV]  learning_rate=0.01, min_samples_leaf=8, min_samples_split=2, n_estimators=15, random_state=0, total=  47.6s\n",
      "[CV] learning_rate=0.01, min_samples_leaf=8, min_samples_split=2, n_estimators=15, random_state=0 \n",
      "[CV]  learning_rate=0.01, min_samples_leaf=8, min_samples_split=2, n_estimators=15, random_state=0, total=  47.9s\n",
      "[CV] learning_rate=0.01, min_samples_leaf=8, min_samples_split=2, n_estimators=15, random_state=0 \n",
      "[CV]  learning_rate=0.01, min_samples_leaf=8, min_samples_split=2, n_estimators=15, random_state=0, total=  48.2s\n",
      "[CV] learning_rate=0.01, min_samples_leaf=8, min_samples_split=5, n_estimators=5, random_state=0 \n",
      "[CV]  learning_rate=0.01, min_samples_leaf=8, min_samples_split=5, n_estimators=5, random_state=0, total=  17.2s\n",
      "[CV] learning_rate=0.01, min_samples_leaf=8, min_samples_split=5, n_estimators=5, random_state=0 \n"
     ]
    },
    {
     "name": "stdout",
     "output_type": "stream",
     "text": [
      "[CV]  learning_rate=0.01, min_samples_leaf=8, min_samples_split=5, n_estimators=5, random_state=0, total=  16.4s\n",
      "[CV] learning_rate=0.01, min_samples_leaf=8, min_samples_split=5, n_estimators=5, random_state=0 \n",
      "[CV]  learning_rate=0.01, min_samples_leaf=8, min_samples_split=5, n_estimators=5, random_state=0, total=  16.5s\n",
      "[CV] learning_rate=0.01, min_samples_leaf=8, min_samples_split=5, n_estimators=10, random_state=0 \n",
      "[CV]  learning_rate=0.01, min_samples_leaf=8, min_samples_split=5, n_estimators=10, random_state=0, total=  31.6s\n",
      "[CV] learning_rate=0.01, min_samples_leaf=8, min_samples_split=5, n_estimators=10, random_state=0 \n",
      "[CV]  learning_rate=0.01, min_samples_leaf=8, min_samples_split=5, n_estimators=10, random_state=0, total=  33.0s\n",
      "[CV] learning_rate=0.01, min_samples_leaf=8, min_samples_split=5, n_estimators=10, random_state=0 \n",
      "[CV]  learning_rate=0.01, min_samples_leaf=8, min_samples_split=5, n_estimators=10, random_state=0, total=  31.7s\n",
      "[CV] learning_rate=0.01, min_samples_leaf=8, min_samples_split=5, n_estimators=15, random_state=0 \n",
      "[CV]  learning_rate=0.01, min_samples_leaf=8, min_samples_split=5, n_estimators=15, random_state=0, total=  48.0s\n",
      "[CV] learning_rate=0.01, min_samples_leaf=8, min_samples_split=5, n_estimators=15, random_state=0 \n",
      "[CV]  learning_rate=0.01, min_samples_leaf=8, min_samples_split=5, n_estimators=15, random_state=0, total=  47.7s\n",
      "[CV] learning_rate=0.01, min_samples_leaf=8, min_samples_split=5, n_estimators=15, random_state=0 \n",
      "[CV]  learning_rate=0.01, min_samples_leaf=8, min_samples_split=5, n_estimators=15, random_state=0, total=  47.3s\n",
      "[CV] learning_rate=0.01, min_samples_leaf=8, min_samples_split=6, n_estimators=5, random_state=0 \n",
      "[CV]  learning_rate=0.01, min_samples_leaf=8, min_samples_split=6, n_estimators=5, random_state=0, total=  16.2s\n",
      "[CV] learning_rate=0.01, min_samples_leaf=8, min_samples_split=6, n_estimators=5, random_state=0 \n",
      "[CV]  learning_rate=0.01, min_samples_leaf=8, min_samples_split=6, n_estimators=5, random_state=0, total=  16.6s\n",
      "[CV] learning_rate=0.01, min_samples_leaf=8, min_samples_split=6, n_estimators=5, random_state=0 \n",
      "[CV]  learning_rate=0.01, min_samples_leaf=8, min_samples_split=6, n_estimators=5, random_state=0, total=  16.0s\n",
      "[CV] learning_rate=0.01, min_samples_leaf=8, min_samples_split=6, n_estimators=10, random_state=0 \n",
      "[CV]  learning_rate=0.01, min_samples_leaf=8, min_samples_split=6, n_estimators=10, random_state=0, total=  31.7s\n",
      "[CV] learning_rate=0.01, min_samples_leaf=8, min_samples_split=6, n_estimators=10, random_state=0 \n",
      "[CV]  learning_rate=0.01, min_samples_leaf=8, min_samples_split=6, n_estimators=10, random_state=0, total=  31.9s\n",
      "[CV] learning_rate=0.01, min_samples_leaf=8, min_samples_split=6, n_estimators=10, random_state=0 \n",
      "[CV]  learning_rate=0.01, min_samples_leaf=8, min_samples_split=6, n_estimators=10, random_state=0, total=  31.6s\n",
      "[CV] learning_rate=0.01, min_samples_leaf=8, min_samples_split=6, n_estimators=15, random_state=0 \n",
      "[CV]  learning_rate=0.01, min_samples_leaf=8, min_samples_split=6, n_estimators=15, random_state=0, total=  47.7s\n",
      "[CV] learning_rate=0.01, min_samples_leaf=8, min_samples_split=6, n_estimators=15, random_state=0 \n",
      "[CV]  learning_rate=0.01, min_samples_leaf=8, min_samples_split=6, n_estimators=15, random_state=0, total=  47.7s\n",
      "[CV] learning_rate=0.01, min_samples_leaf=8, min_samples_split=6, n_estimators=15, random_state=0 \n",
      "[CV]  learning_rate=0.01, min_samples_leaf=8, min_samples_split=6, n_estimators=15, random_state=0, total=  47.7s\n",
      "[CV] learning_rate=0.01, min_samples_leaf=8, min_samples_split=7, n_estimators=5, random_state=0 \n",
      "[CV]  learning_rate=0.01, min_samples_leaf=8, min_samples_split=7, n_estimators=5, random_state=0, total=  15.9s\n",
      "[CV] learning_rate=0.01, min_samples_leaf=8, min_samples_split=7, n_estimators=5, random_state=0 \n",
      "[CV]  learning_rate=0.01, min_samples_leaf=8, min_samples_split=7, n_estimators=5, random_state=0, total=13.2min\n",
      "[CV] learning_rate=0.01, min_samples_leaf=8, min_samples_split=7, n_estimators=5, random_state=0 \n",
      "[CV]  learning_rate=0.01, min_samples_leaf=8, min_samples_split=7, n_estimators=5, random_state=0, total=  14.9s\n",
      "[CV] learning_rate=0.01, min_samples_leaf=8, min_samples_split=7, n_estimators=10, random_state=0 \n",
      "[CV]  learning_rate=0.01, min_samples_leaf=8, min_samples_split=7, n_estimators=10, random_state=0, total=  29.7s\n",
      "[CV] learning_rate=0.01, min_samples_leaf=8, min_samples_split=7, n_estimators=10, random_state=0 \n",
      "[CV]  learning_rate=0.01, min_samples_leaf=8, min_samples_split=7, n_estimators=10, random_state=0, total=  29.8s\n",
      "[CV] learning_rate=0.01, min_samples_leaf=8, min_samples_split=7, n_estimators=10, random_state=0 \n",
      "[CV]  learning_rate=0.01, min_samples_leaf=8, min_samples_split=7, n_estimators=10, random_state=0, total=  31.2s\n",
      "[CV] learning_rate=0.01, min_samples_leaf=8, min_samples_split=7, n_estimators=15, random_state=0 \n",
      "[CV]  learning_rate=0.01, min_samples_leaf=8, min_samples_split=7, n_estimators=15, random_state=0, total=  47.9s\n",
      "[CV] learning_rate=0.01, min_samples_leaf=8, min_samples_split=7, n_estimators=15, random_state=0 \n",
      "[CV]  learning_rate=0.01, min_samples_leaf=8, min_samples_split=7, n_estimators=15, random_state=0, total=  47.8s\n",
      "[CV] learning_rate=0.01, min_samples_leaf=8, min_samples_split=7, n_estimators=15, random_state=0 \n",
      "[CV]  learning_rate=0.01, min_samples_leaf=8, min_samples_split=7, n_estimators=15, random_state=0, total=  47.6s\n",
      "[CV] learning_rate=0.1, min_samples_leaf=2, min_samples_split=2, n_estimators=5, random_state=0 \n",
      "[CV]  learning_rate=0.1, min_samples_leaf=2, min_samples_split=2, n_estimators=5, random_state=0, total=  16.3s\n",
      "[CV] learning_rate=0.1, min_samples_leaf=2, min_samples_split=2, n_estimators=5, random_state=0 \n",
      "[CV]  learning_rate=0.1, min_samples_leaf=2, min_samples_split=2, n_estimators=5, random_state=0, total=  15.9s\n",
      "[CV] learning_rate=0.1, min_samples_leaf=2, min_samples_split=2, n_estimators=5, random_state=0 \n",
      "[CV]  learning_rate=0.1, min_samples_leaf=2, min_samples_split=2, n_estimators=5, random_state=0, total=  16.4s\n",
      "[CV] learning_rate=0.1, min_samples_leaf=2, min_samples_split=2, n_estimators=10, random_state=0 \n",
      "[CV]  learning_rate=0.1, min_samples_leaf=2, min_samples_split=2, n_estimators=10, random_state=0, total=  32.7s\n",
      "[CV] learning_rate=0.1, min_samples_leaf=2, min_samples_split=2, n_estimators=10, random_state=0 \n",
      "[CV]  learning_rate=0.1, min_samples_leaf=2, min_samples_split=2, n_estimators=10, random_state=0, total=  31.8s\n",
      "[CV] learning_rate=0.1, min_samples_leaf=2, min_samples_split=2, n_estimators=10, random_state=0 \n",
      "[CV]  learning_rate=0.1, min_samples_leaf=2, min_samples_split=2, n_estimators=10, random_state=0, total=  32.0s\n",
      "[CV] learning_rate=0.1, min_samples_leaf=2, min_samples_split=2, n_estimators=15, random_state=0 \n",
      "[CV]  learning_rate=0.1, min_samples_leaf=2, min_samples_split=2, n_estimators=15, random_state=0, total=  48.5s\n",
      "[CV] learning_rate=0.1, min_samples_leaf=2, min_samples_split=2, n_estimators=15, random_state=0 \n",
      "[CV]  learning_rate=0.1, min_samples_leaf=2, min_samples_split=2, n_estimators=15, random_state=0, total=  51.3s\n",
      "[CV] learning_rate=0.1, min_samples_leaf=2, min_samples_split=2, n_estimators=15, random_state=0 \n",
      "[CV]  learning_rate=0.1, min_samples_leaf=2, min_samples_split=2, n_estimators=15, random_state=0, total=  54.9s\n",
      "[CV] learning_rate=0.1, min_samples_leaf=2, min_samples_split=5, n_estimators=5, random_state=0 \n",
      "[CV]  learning_rate=0.1, min_samples_leaf=2, min_samples_split=5, n_estimators=5, random_state=0, total=  18.1s\n",
      "[CV] learning_rate=0.1, min_samples_leaf=2, min_samples_split=5, n_estimators=5, random_state=0 \n",
      "[CV]  learning_rate=0.1, min_samples_leaf=2, min_samples_split=5, n_estimators=5, random_state=0, total=  19.1s\n",
      "[CV] learning_rate=0.1, min_samples_leaf=2, min_samples_split=5, n_estimators=5, random_state=0 \n",
      "[CV]  learning_rate=0.1, min_samples_leaf=2, min_samples_split=5, n_estimators=5, random_state=0, total=  19.0s\n",
      "[CV] learning_rate=0.1, min_samples_leaf=2, min_samples_split=5, n_estimators=10, random_state=0 \n",
      "[CV]  learning_rate=0.1, min_samples_leaf=2, min_samples_split=5, n_estimators=10, random_state=0, total=  37.3s\n",
      "[CV] learning_rate=0.1, min_samples_leaf=2, min_samples_split=5, n_estimators=10, random_state=0 \n"
     ]
    },
    {
     "name": "stdout",
     "output_type": "stream",
     "text": [
      "[CV]  learning_rate=0.1, min_samples_leaf=2, min_samples_split=5, n_estimators=10, random_state=0, total=  38.2s\n",
      "[CV] learning_rate=0.1, min_samples_leaf=2, min_samples_split=5, n_estimators=10, random_state=0 \n",
      "[CV]  learning_rate=0.1, min_samples_leaf=2, min_samples_split=5, n_estimators=10, random_state=0, total=  32.6s\n",
      "[CV] learning_rate=0.1, min_samples_leaf=2, min_samples_split=5, n_estimators=15, random_state=0 \n",
      "[CV]  learning_rate=0.1, min_samples_leaf=2, min_samples_split=5, n_estimators=15, random_state=0, total=  49.5s\n",
      "[CV] learning_rate=0.1, min_samples_leaf=2, min_samples_split=5, n_estimators=15, random_state=0 \n",
      "[CV]  learning_rate=0.1, min_samples_leaf=2, min_samples_split=5, n_estimators=15, random_state=0, total=  51.4s\n",
      "[CV] learning_rate=0.1, min_samples_leaf=2, min_samples_split=5, n_estimators=15, random_state=0 \n",
      "[CV]  learning_rate=0.1, min_samples_leaf=2, min_samples_split=5, n_estimators=15, random_state=0, total=  55.8s\n",
      "[CV] learning_rate=0.1, min_samples_leaf=2, min_samples_split=6, n_estimators=5, random_state=0 \n",
      "[CV]  learning_rate=0.1, min_samples_leaf=2, min_samples_split=6, n_estimators=5, random_state=0, total=  19.1s\n",
      "[CV] learning_rate=0.1, min_samples_leaf=2, min_samples_split=6, n_estimators=5, random_state=0 \n",
      "[CV]  learning_rate=0.1, min_samples_leaf=2, min_samples_split=6, n_estimators=5, random_state=0, total=  18.1s\n",
      "[CV] learning_rate=0.1, min_samples_leaf=2, min_samples_split=6, n_estimators=5, random_state=0 \n",
      "[CV]  learning_rate=0.1, min_samples_leaf=2, min_samples_split=6, n_estimators=5, random_state=0, total=  17.9s\n",
      "[CV] learning_rate=0.1, min_samples_leaf=2, min_samples_split=6, n_estimators=10, random_state=0 \n",
      "[CV]  learning_rate=0.1, min_samples_leaf=2, min_samples_split=6, n_estimators=10, random_state=0, total=  37.5s\n",
      "[CV] learning_rate=0.1, min_samples_leaf=2, min_samples_split=6, n_estimators=10, random_state=0 \n",
      "[CV]  learning_rate=0.1, min_samples_leaf=2, min_samples_split=6, n_estimators=10, random_state=0, total=  36.6s\n",
      "[CV] learning_rate=0.1, min_samples_leaf=2, min_samples_split=6, n_estimators=10, random_state=0 \n",
      "[CV]  learning_rate=0.1, min_samples_leaf=2, min_samples_split=6, n_estimators=10, random_state=0, total=  40.3s\n",
      "[CV] learning_rate=0.1, min_samples_leaf=2, min_samples_split=6, n_estimators=15, random_state=0 \n",
      "[CV]  learning_rate=0.1, min_samples_leaf=2, min_samples_split=6, n_estimators=15, random_state=0, total=  53.3s\n",
      "[CV] learning_rate=0.1, min_samples_leaf=2, min_samples_split=6, n_estimators=15, random_state=0 \n",
      "[CV]  learning_rate=0.1, min_samples_leaf=2, min_samples_split=6, n_estimators=15, random_state=0, total=  53.3s\n",
      "[CV] learning_rate=0.1, min_samples_leaf=2, min_samples_split=6, n_estimators=15, random_state=0 \n",
      "[CV]  learning_rate=0.1, min_samples_leaf=2, min_samples_split=6, n_estimators=15, random_state=0, total=  49.0s\n",
      "[CV] learning_rate=0.1, min_samples_leaf=2, min_samples_split=7, n_estimators=5, random_state=0 \n",
      "[CV]  learning_rate=0.1, min_samples_leaf=2, min_samples_split=7, n_estimators=5, random_state=0, total=  16.7s\n",
      "[CV] learning_rate=0.1, min_samples_leaf=2, min_samples_split=7, n_estimators=5, random_state=0 \n",
      "[CV]  learning_rate=0.1, min_samples_leaf=2, min_samples_split=7, n_estimators=5, random_state=0, total=  16.3s\n",
      "[CV] learning_rate=0.1, min_samples_leaf=2, min_samples_split=7, n_estimators=5, random_state=0 \n",
      "[CV]  learning_rate=0.1, min_samples_leaf=2, min_samples_split=7, n_estimators=5, random_state=0, total=  16.4s\n",
      "[CV] learning_rate=0.1, min_samples_leaf=2, min_samples_split=7, n_estimators=10, random_state=0 \n",
      "[CV]  learning_rate=0.1, min_samples_leaf=2, min_samples_split=7, n_estimators=10, random_state=0, total=  32.7s\n",
      "[CV] learning_rate=0.1, min_samples_leaf=2, min_samples_split=7, n_estimators=10, random_state=0 \n",
      "[CV]  learning_rate=0.1, min_samples_leaf=2, min_samples_split=7, n_estimators=10, random_state=0, total=  32.4s\n",
      "[CV] learning_rate=0.1, min_samples_leaf=2, min_samples_split=7, n_estimators=10, random_state=0 \n",
      "[CV]  learning_rate=0.1, min_samples_leaf=2, min_samples_split=7, n_estimators=10, random_state=0, total=  32.9s\n",
      "[CV] learning_rate=0.1, min_samples_leaf=2, min_samples_split=7, n_estimators=15, random_state=0 \n",
      "[CV]  learning_rate=0.1, min_samples_leaf=2, min_samples_split=7, n_estimators=15, random_state=0, total=  48.9s\n",
      "[CV] learning_rate=0.1, min_samples_leaf=2, min_samples_split=7, n_estimators=15, random_state=0 \n",
      "[CV]  learning_rate=0.1, min_samples_leaf=2, min_samples_split=7, n_estimators=15, random_state=0, total=  48.8s\n",
      "[CV] learning_rate=0.1, min_samples_leaf=2, min_samples_split=7, n_estimators=15, random_state=0 \n",
      "[CV]  learning_rate=0.1, min_samples_leaf=2, min_samples_split=7, n_estimators=15, random_state=0, total=  49.3s\n",
      "[CV] learning_rate=0.1, min_samples_leaf=4, min_samples_split=2, n_estimators=5, random_state=0 \n",
      "[CV]  learning_rate=0.1, min_samples_leaf=4, min_samples_split=2, n_estimators=5, random_state=0, total=  16.2s\n",
      "[CV] learning_rate=0.1, min_samples_leaf=4, min_samples_split=2, n_estimators=5, random_state=0 \n",
      "[CV]  learning_rate=0.1, min_samples_leaf=4, min_samples_split=2, n_estimators=5, random_state=0, total=  17.2s\n",
      "[CV] learning_rate=0.1, min_samples_leaf=4, min_samples_split=2, n_estimators=5, random_state=0 \n",
      "[CV]  learning_rate=0.1, min_samples_leaf=4, min_samples_split=2, n_estimators=5, random_state=0, total=  16.3s\n",
      "[CV] learning_rate=0.1, min_samples_leaf=4, min_samples_split=2, n_estimators=10, random_state=0 \n",
      "[CV]  learning_rate=0.1, min_samples_leaf=4, min_samples_split=2, n_estimators=10, random_state=0, total=  32.5s\n",
      "[CV] learning_rate=0.1, min_samples_leaf=4, min_samples_split=2, n_estimators=10, random_state=0 \n",
      "[CV]  learning_rate=0.1, min_samples_leaf=4, min_samples_split=2, n_estimators=10, random_state=0, total=  33.2s\n",
      "[CV] learning_rate=0.1, min_samples_leaf=4, min_samples_split=2, n_estimators=10, random_state=0 \n",
      "[CV]  learning_rate=0.1, min_samples_leaf=4, min_samples_split=2, n_estimators=10, random_state=0, total=  34.9s\n",
      "[CV] learning_rate=0.1, min_samples_leaf=4, min_samples_split=2, n_estimators=15, random_state=0 \n",
      "[CV]  learning_rate=0.1, min_samples_leaf=4, min_samples_split=2, n_estimators=15, random_state=0, total=  48.9s\n",
      "[CV] learning_rate=0.1, min_samples_leaf=4, min_samples_split=2, n_estimators=15, random_state=0 \n",
      "[CV]  learning_rate=0.1, min_samples_leaf=4, min_samples_split=2, n_estimators=15, random_state=0, total=  48.9s\n",
      "[CV] learning_rate=0.1, min_samples_leaf=4, min_samples_split=2, n_estimators=15, random_state=0 \n",
      "[CV]  learning_rate=0.1, min_samples_leaf=4, min_samples_split=2, n_estimators=15, random_state=0, total=  49.3s\n",
      "[CV] learning_rate=0.1, min_samples_leaf=4, min_samples_split=5, n_estimators=5, random_state=0 \n",
      "[CV]  learning_rate=0.1, min_samples_leaf=4, min_samples_split=5, n_estimators=5, random_state=0, total=  16.4s\n",
      "[CV] learning_rate=0.1, min_samples_leaf=4, min_samples_split=5, n_estimators=5, random_state=0 \n",
      "[CV]  learning_rate=0.1, min_samples_leaf=4, min_samples_split=5, n_estimators=5, random_state=0, total=  16.2s\n",
      "[CV] learning_rate=0.1, min_samples_leaf=4, min_samples_split=5, n_estimators=5, random_state=0 \n",
      "[CV]  learning_rate=0.1, min_samples_leaf=4, min_samples_split=5, n_estimators=5, random_state=0, total=  16.2s\n",
      "[CV] learning_rate=0.1, min_samples_leaf=4, min_samples_split=5, n_estimators=10, random_state=0 \n",
      "[CV]  learning_rate=0.1, min_samples_leaf=4, min_samples_split=5, n_estimators=10, random_state=0, total=  33.7s\n",
      "[CV] learning_rate=0.1, min_samples_leaf=4, min_samples_split=5, n_estimators=10, random_state=0 \n",
      "[CV]  learning_rate=0.1, min_samples_leaf=4, min_samples_split=5, n_estimators=10, random_state=0, total=  32.3s\n",
      "[CV] learning_rate=0.1, min_samples_leaf=4, min_samples_split=5, n_estimators=10, random_state=0 \n",
      "[CV]  learning_rate=0.1, min_samples_leaf=4, min_samples_split=5, n_estimators=10, random_state=0, total=  33.1s\n",
      "[CV] learning_rate=0.1, min_samples_leaf=4, min_samples_split=5, n_estimators=15, random_state=0 \n",
      "[CV]  learning_rate=0.1, min_samples_leaf=4, min_samples_split=5, n_estimators=15, random_state=0, total=  48.9s\n",
      "[CV] learning_rate=0.1, min_samples_leaf=4, min_samples_split=5, n_estimators=15, random_state=0 \n"
     ]
    },
    {
     "name": "stdout",
     "output_type": "stream",
     "text": [
      "[CV]  learning_rate=0.1, min_samples_leaf=4, min_samples_split=5, n_estimators=15, random_state=0, total=  48.2s\n",
      "[CV] learning_rate=0.1, min_samples_leaf=4, min_samples_split=5, n_estimators=15, random_state=0 \n",
      "[CV]  learning_rate=0.1, min_samples_leaf=4, min_samples_split=5, n_estimators=15, random_state=0, total=  49.8s\n",
      "[CV] learning_rate=0.1, min_samples_leaf=4, min_samples_split=6, n_estimators=5, random_state=0 \n",
      "[CV]  learning_rate=0.1, min_samples_leaf=4, min_samples_split=6, n_estimators=5, random_state=0, total=  18.0s\n",
      "[CV] learning_rate=0.1, min_samples_leaf=4, min_samples_split=6, n_estimators=5, random_state=0 \n",
      "[CV]  learning_rate=0.1, min_samples_leaf=4, min_samples_split=6, n_estimators=5, random_state=0, total=  18.9s\n",
      "[CV] learning_rate=0.1, min_samples_leaf=4, min_samples_split=6, n_estimators=5, random_state=0 \n",
      "[CV]  learning_rate=0.1, min_samples_leaf=4, min_samples_split=6, n_estimators=5, random_state=0, total=  17.9s\n",
      "[CV] learning_rate=0.1, min_samples_leaf=4, min_samples_split=6, n_estimators=10, random_state=0 \n",
      "[CV]  learning_rate=0.1, min_samples_leaf=4, min_samples_split=6, n_estimators=10, random_state=0, total=  36.2s\n",
      "[CV] learning_rate=0.1, min_samples_leaf=4, min_samples_split=6, n_estimators=10, random_state=0 \n",
      "[CV]  learning_rate=0.1, min_samples_leaf=4, min_samples_split=6, n_estimators=10, random_state=0, total=  36.4s\n",
      "[CV] learning_rate=0.1, min_samples_leaf=4, min_samples_split=6, n_estimators=10, random_state=0 \n",
      "[CV]  learning_rate=0.1, min_samples_leaf=4, min_samples_split=6, n_estimators=10, random_state=0, total=  39.3s\n",
      "[CV] learning_rate=0.1, min_samples_leaf=4, min_samples_split=6, n_estimators=15, random_state=0 \n",
      "[CV]  learning_rate=0.1, min_samples_leaf=4, min_samples_split=6, n_estimators=15, random_state=0, total=  54.9s\n",
      "[CV] learning_rate=0.1, min_samples_leaf=4, min_samples_split=6, n_estimators=15, random_state=0 \n",
      "[CV]  learning_rate=0.1, min_samples_leaf=4, min_samples_split=6, n_estimators=15, random_state=0, total=  57.7s\n",
      "[CV] learning_rate=0.1, min_samples_leaf=4, min_samples_split=6, n_estimators=15, random_state=0 \n",
      "[CV]  learning_rate=0.1, min_samples_leaf=4, min_samples_split=6, n_estimators=15, random_state=0, total=  50.6s\n",
      "[CV] learning_rate=0.1, min_samples_leaf=4, min_samples_split=7, n_estimators=5, random_state=0 \n",
      "[CV]  learning_rate=0.1, min_samples_leaf=4, min_samples_split=7, n_estimators=5, random_state=0, total=  16.2s\n",
      "[CV] learning_rate=0.1, min_samples_leaf=4, min_samples_split=7, n_estimators=5, random_state=0 \n",
      "[CV]  learning_rate=0.1, min_samples_leaf=4, min_samples_split=7, n_estimators=5, random_state=0, total=  16.6s\n",
      "[CV] learning_rate=0.1, min_samples_leaf=4, min_samples_split=7, n_estimators=5, random_state=0 \n",
      "[CV]  learning_rate=0.1, min_samples_leaf=4, min_samples_split=7, n_estimators=5, random_state=0, total=  16.2s\n",
      "[CV] learning_rate=0.1, min_samples_leaf=4, min_samples_split=7, n_estimators=10, random_state=0 \n",
      "[CV]  learning_rate=0.1, min_samples_leaf=4, min_samples_split=7, n_estimators=10, random_state=0, total=  32.1s\n",
      "[CV] learning_rate=0.1, min_samples_leaf=4, min_samples_split=7, n_estimators=10, random_state=0 \n",
      "[CV]  learning_rate=0.1, min_samples_leaf=4, min_samples_split=7, n_estimators=10, random_state=0, total=  32.8s\n",
      "[CV] learning_rate=0.1, min_samples_leaf=4, min_samples_split=7, n_estimators=10, random_state=0 \n",
      "[CV]  learning_rate=0.1, min_samples_leaf=4, min_samples_split=7, n_estimators=10, random_state=0, total=  33.2s\n",
      "[CV] learning_rate=0.1, min_samples_leaf=4, min_samples_split=7, n_estimators=15, random_state=0 \n",
      "[CV]  learning_rate=0.1, min_samples_leaf=4, min_samples_split=7, n_estimators=15, random_state=0, total=  49.7s\n",
      "[CV] learning_rate=0.1, min_samples_leaf=4, min_samples_split=7, n_estimators=15, random_state=0 \n",
      "[CV]  learning_rate=0.1, min_samples_leaf=4, min_samples_split=7, n_estimators=15, random_state=0, total=  48.7s\n",
      "[CV] learning_rate=0.1, min_samples_leaf=4, min_samples_split=7, n_estimators=15, random_state=0 \n",
      "[CV]  learning_rate=0.1, min_samples_leaf=4, min_samples_split=7, n_estimators=15, random_state=0, total=  49.1s\n",
      "[CV] learning_rate=0.1, min_samples_leaf=6, min_samples_split=2, n_estimators=5, random_state=0 \n",
      "[CV]  learning_rate=0.1, min_samples_leaf=6, min_samples_split=2, n_estimators=5, random_state=0, total=  16.0s\n",
      "[CV] learning_rate=0.1, min_samples_leaf=6, min_samples_split=2, n_estimators=5, random_state=0 \n",
      "[CV]  learning_rate=0.1, min_samples_leaf=6, min_samples_split=2, n_estimators=5, random_state=0, total=  17.8s\n",
      "[CV] learning_rate=0.1, min_samples_leaf=6, min_samples_split=2, n_estimators=5, random_state=0 \n",
      "[CV]  learning_rate=0.1, min_samples_leaf=6, min_samples_split=2, n_estimators=5, random_state=0, total=  16.9s\n",
      "[CV] learning_rate=0.1, min_samples_leaf=6, min_samples_split=2, n_estimators=10, random_state=0 \n",
      "[CV]  learning_rate=0.1, min_samples_leaf=6, min_samples_split=2, n_estimators=10, random_state=0, total=  32.8s\n",
      "[CV] learning_rate=0.1, min_samples_leaf=6, min_samples_split=2, n_estimators=10, random_state=0 \n",
      "[CV]  learning_rate=0.1, min_samples_leaf=6, min_samples_split=2, n_estimators=10, random_state=0, total=  33.5s\n",
      "[CV] learning_rate=0.1, min_samples_leaf=6, min_samples_split=2, n_estimators=10, random_state=0 \n",
      "[CV]  learning_rate=0.1, min_samples_leaf=6, min_samples_split=2, n_estimators=10, random_state=0, total=  33.8s\n",
      "[CV] learning_rate=0.1, min_samples_leaf=6, min_samples_split=2, n_estimators=15, random_state=0 \n",
      "[CV]  learning_rate=0.1, min_samples_leaf=6, min_samples_split=2, n_estimators=15, random_state=0, total=  48.9s\n",
      "[CV] learning_rate=0.1, min_samples_leaf=6, min_samples_split=2, n_estimators=15, random_state=0 \n",
      "[CV]  learning_rate=0.1, min_samples_leaf=6, min_samples_split=2, n_estimators=15, random_state=0, total=  47.9s\n",
      "[CV] learning_rate=0.1, min_samples_leaf=6, min_samples_split=2, n_estimators=15, random_state=0 \n",
      "[CV]  learning_rate=0.1, min_samples_leaf=6, min_samples_split=2, n_estimators=15, random_state=0, total=  50.4s\n",
      "[CV] learning_rate=0.1, min_samples_leaf=6, min_samples_split=5, n_estimators=5, random_state=0 \n",
      "[CV]  learning_rate=0.1, min_samples_leaf=6, min_samples_split=5, n_estimators=5, random_state=0, total=  16.0s\n",
      "[CV] learning_rate=0.1, min_samples_leaf=6, min_samples_split=5, n_estimators=5, random_state=0 \n",
      "[CV]  learning_rate=0.1, min_samples_leaf=6, min_samples_split=5, n_estimators=5, random_state=0, total=  16.6s\n",
      "[CV] learning_rate=0.1, min_samples_leaf=6, min_samples_split=5, n_estimators=5, random_state=0 \n",
      "[CV]  learning_rate=0.1, min_samples_leaf=6, min_samples_split=5, n_estimators=5, random_state=0, total=  17.3s\n",
      "[CV] learning_rate=0.1, min_samples_leaf=6, min_samples_split=5, n_estimators=10, random_state=0 \n",
      "[CV]  learning_rate=0.1, min_samples_leaf=6, min_samples_split=5, n_estimators=10, random_state=0, total=  32.7s\n",
      "[CV] learning_rate=0.1, min_samples_leaf=6, min_samples_split=5, n_estimators=10, random_state=0 \n",
      "[CV]  learning_rate=0.1, min_samples_leaf=6, min_samples_split=5, n_estimators=10, random_state=0, total=  33.8s\n",
      "[CV] learning_rate=0.1, min_samples_leaf=6, min_samples_split=5, n_estimators=10, random_state=0 \n",
      "[CV]  learning_rate=0.1, min_samples_leaf=6, min_samples_split=5, n_estimators=10, random_state=0, total=  28.0s\n",
      "[CV] learning_rate=0.1, min_samples_leaf=6, min_samples_split=5, n_estimators=15, random_state=0 \n",
      "[CV]  learning_rate=0.1, min_samples_leaf=6, min_samples_split=5, n_estimators=15, random_state=0, total=  40.8s\n",
      "[CV] learning_rate=0.1, min_samples_leaf=6, min_samples_split=5, n_estimators=15, random_state=0 \n",
      "[CV]  learning_rate=0.1, min_samples_leaf=6, min_samples_split=5, n_estimators=15, random_state=0, total=  40.9s\n",
      "[CV] learning_rate=0.1, min_samples_leaf=6, min_samples_split=5, n_estimators=15, random_state=0 \n",
      "[CV]  learning_rate=0.1, min_samples_leaf=6, min_samples_split=5, n_estimators=15, random_state=0, total=  41.0s\n",
      "[CV] learning_rate=0.1, min_samples_leaf=6, min_samples_split=6, n_estimators=5, random_state=0 \n",
      "[CV]  learning_rate=0.1, min_samples_leaf=6, min_samples_split=6, n_estimators=5, random_state=0, total=  13.6s\n",
      "[CV] learning_rate=0.1, min_samples_leaf=6, min_samples_split=6, n_estimators=5, random_state=0 \n"
     ]
    },
    {
     "name": "stdout",
     "output_type": "stream",
     "text": [
      "[CV]  learning_rate=0.1, min_samples_leaf=6, min_samples_split=6, n_estimators=5, random_state=0, total=  14.1s\n",
      "[CV] learning_rate=0.1, min_samples_leaf=6, min_samples_split=6, n_estimators=5, random_state=0 \n",
      "[CV]  learning_rate=0.1, min_samples_leaf=6, min_samples_split=6, n_estimators=5, random_state=0, total=  13.8s\n",
      "[CV] learning_rate=0.1, min_samples_leaf=6, min_samples_split=6, n_estimators=10, random_state=0 \n",
      "[CV]  learning_rate=0.1, min_samples_leaf=6, min_samples_split=6, n_estimators=10, random_state=0, total=  26.9s\n",
      "[CV] learning_rate=0.1, min_samples_leaf=6, min_samples_split=6, n_estimators=10, random_state=0 \n",
      "[CV]  learning_rate=0.1, min_samples_leaf=6, min_samples_split=6, n_estimators=10, random_state=0, total=  27.7s\n",
      "[CV] learning_rate=0.1, min_samples_leaf=6, min_samples_split=6, n_estimators=10, random_state=0 \n",
      "[CV]  learning_rate=0.1, min_samples_leaf=6, min_samples_split=6, n_estimators=10, random_state=0, total=  27.2s\n",
      "[CV] learning_rate=0.1, min_samples_leaf=6, min_samples_split=6, n_estimators=15, random_state=0 \n",
      "[CV]  learning_rate=0.1, min_samples_leaf=6, min_samples_split=6, n_estimators=15, random_state=0, total=  41.5s\n",
      "[CV] learning_rate=0.1, min_samples_leaf=6, min_samples_split=6, n_estimators=15, random_state=0 \n",
      "[CV]  learning_rate=0.1, min_samples_leaf=6, min_samples_split=6, n_estimators=15, random_state=0, total=  40.8s\n",
      "[CV] learning_rate=0.1, min_samples_leaf=6, min_samples_split=6, n_estimators=15, random_state=0 \n",
      "[CV]  learning_rate=0.1, min_samples_leaf=6, min_samples_split=6, n_estimators=15, random_state=0, total=  40.7s\n",
      "[CV] learning_rate=0.1, min_samples_leaf=6, min_samples_split=7, n_estimators=5, random_state=0 \n",
      "[CV]  learning_rate=0.1, min_samples_leaf=6, min_samples_split=7, n_estimators=5, random_state=0, total=  13.5s\n",
      "[CV] learning_rate=0.1, min_samples_leaf=6, min_samples_split=7, n_estimators=5, random_state=0 \n",
      "[CV]  learning_rate=0.1, min_samples_leaf=6, min_samples_split=7, n_estimators=5, random_state=0, total=  13.7s\n",
      "[CV] learning_rate=0.1, min_samples_leaf=6, min_samples_split=7, n_estimators=5, random_state=0 \n",
      "[CV]  learning_rate=0.1, min_samples_leaf=6, min_samples_split=7, n_estimators=5, random_state=0, total=  14.0s\n",
      "[CV] learning_rate=0.1, min_samples_leaf=6, min_samples_split=7, n_estimators=10, random_state=0 \n",
      "[CV]  learning_rate=0.1, min_samples_leaf=6, min_samples_split=7, n_estimators=10, random_state=0, total=  27.6s\n",
      "[CV] learning_rate=0.1, min_samples_leaf=6, min_samples_split=7, n_estimators=10, random_state=0 \n",
      "[CV]  learning_rate=0.1, min_samples_leaf=6, min_samples_split=7, n_estimators=10, random_state=0, total=  28.5s\n",
      "[CV] learning_rate=0.1, min_samples_leaf=6, min_samples_split=7, n_estimators=10, random_state=0 \n",
      "[CV]  learning_rate=0.1, min_samples_leaf=6, min_samples_split=7, n_estimators=10, random_state=0, total=  28.3s\n",
      "[CV] learning_rate=0.1, min_samples_leaf=6, min_samples_split=7, n_estimators=15, random_state=0 \n",
      "[CV]  learning_rate=0.1, min_samples_leaf=6, min_samples_split=7, n_estimators=15, random_state=0, total=  45.4s\n",
      "[CV] learning_rate=0.1, min_samples_leaf=6, min_samples_split=7, n_estimators=15, random_state=0 \n",
      "[CV]  learning_rate=0.1, min_samples_leaf=6, min_samples_split=7, n_estimators=15, random_state=0, total=  41.9s\n",
      "[CV] learning_rate=0.1, min_samples_leaf=6, min_samples_split=7, n_estimators=15, random_state=0 \n",
      "[CV]  learning_rate=0.1, min_samples_leaf=6, min_samples_split=7, n_estimators=15, random_state=0, total=  43.0s\n",
      "[CV] learning_rate=0.1, min_samples_leaf=8, min_samples_split=2, n_estimators=5, random_state=0 \n",
      "[CV]  learning_rate=0.1, min_samples_leaf=8, min_samples_split=2, n_estimators=5, random_state=0, total=  14.0s\n",
      "[CV] learning_rate=0.1, min_samples_leaf=8, min_samples_split=2, n_estimators=5, random_state=0 \n",
      "[CV]  learning_rate=0.1, min_samples_leaf=8, min_samples_split=2, n_estimators=5, random_state=0, total=  14.2s\n",
      "[CV] learning_rate=0.1, min_samples_leaf=8, min_samples_split=2, n_estimators=5, random_state=0 \n",
      "[CV]  learning_rate=0.1, min_samples_leaf=8, min_samples_split=2, n_estimators=5, random_state=0, total=  14.5s\n",
      "[CV] learning_rate=0.1, min_samples_leaf=8, min_samples_split=2, n_estimators=10, random_state=0 \n",
      "[CV]  learning_rate=0.1, min_samples_leaf=8, min_samples_split=2, n_estimators=10, random_state=0, total=  27.7s\n",
      "[CV] learning_rate=0.1, min_samples_leaf=8, min_samples_split=2, n_estimators=10, random_state=0 \n",
      "[CV]  learning_rate=0.1, min_samples_leaf=8, min_samples_split=2, n_estimators=10, random_state=0, total=  27.5s\n",
      "[CV] learning_rate=0.1, min_samples_leaf=8, min_samples_split=2, n_estimators=10, random_state=0 \n",
      "[CV]  learning_rate=0.1, min_samples_leaf=8, min_samples_split=2, n_estimators=10, random_state=0, total=  28.1s\n",
      "[CV] learning_rate=0.1, min_samples_leaf=8, min_samples_split=2, n_estimators=15, random_state=0 \n",
      "[CV]  learning_rate=0.1, min_samples_leaf=8, min_samples_split=2, n_estimators=15, random_state=0, total=  44.2s\n",
      "[CV] learning_rate=0.1, min_samples_leaf=8, min_samples_split=2, n_estimators=15, random_state=0 \n",
      "[CV]  learning_rate=0.1, min_samples_leaf=8, min_samples_split=2, n_estimators=15, random_state=0, total=  43.9s\n",
      "[CV] learning_rate=0.1, min_samples_leaf=8, min_samples_split=2, n_estimators=15, random_state=0 \n",
      "[CV]  learning_rate=0.1, min_samples_leaf=8, min_samples_split=2, n_estimators=15, random_state=0, total=  43.4s\n",
      "[CV] learning_rate=0.1, min_samples_leaf=8, min_samples_split=5, n_estimators=5, random_state=0 \n",
      "[CV]  learning_rate=0.1, min_samples_leaf=8, min_samples_split=5, n_estimators=5, random_state=0, total=  14.6s\n",
      "[CV] learning_rate=0.1, min_samples_leaf=8, min_samples_split=5, n_estimators=5, random_state=0 \n",
      "[CV]  learning_rate=0.1, min_samples_leaf=8, min_samples_split=5, n_estimators=5, random_state=0, total=  14.7s\n",
      "[CV] learning_rate=0.1, min_samples_leaf=8, min_samples_split=5, n_estimators=5, random_state=0 \n",
      "[CV]  learning_rate=0.1, min_samples_leaf=8, min_samples_split=5, n_estimators=5, random_state=0, total=  14.3s\n",
      "[CV] learning_rate=0.1, min_samples_leaf=8, min_samples_split=5, n_estimators=10, random_state=0 \n",
      "[CV]  learning_rate=0.1, min_samples_leaf=8, min_samples_split=5, n_estimators=10, random_state=0, total=  27.3s\n",
      "[CV] learning_rate=0.1, min_samples_leaf=8, min_samples_split=5, n_estimators=10, random_state=0 \n",
      "[CV]  learning_rate=0.1, min_samples_leaf=8, min_samples_split=5, n_estimators=10, random_state=0, total=  27.3s\n",
      "[CV] learning_rate=0.1, min_samples_leaf=8, min_samples_split=5, n_estimators=10, random_state=0 \n",
      "[CV]  learning_rate=0.1, min_samples_leaf=8, min_samples_split=5, n_estimators=10, random_state=0, total=  27.6s\n",
      "[CV] learning_rate=0.1, min_samples_leaf=8, min_samples_split=5, n_estimators=15, random_state=0 \n",
      "[CV]  learning_rate=0.1, min_samples_leaf=8, min_samples_split=5, n_estimators=15, random_state=0, total=  40.9s\n",
      "[CV] learning_rate=0.1, min_samples_leaf=8, min_samples_split=5, n_estimators=15, random_state=0 \n",
      "[CV]  learning_rate=0.1, min_samples_leaf=8, min_samples_split=5, n_estimators=15, random_state=0, total=  41.0s\n",
      "[CV] learning_rate=0.1, min_samples_leaf=8, min_samples_split=5, n_estimators=15, random_state=0 \n",
      "[CV]  learning_rate=0.1, min_samples_leaf=8, min_samples_split=5, n_estimators=15, random_state=0, total=  41.3s\n",
      "[CV] learning_rate=0.1, min_samples_leaf=8, min_samples_split=6, n_estimators=5, random_state=0 \n",
      "[CV]  learning_rate=0.1, min_samples_leaf=8, min_samples_split=6, n_estimators=5, random_state=0, total=  13.8s\n",
      "[CV] learning_rate=0.1, min_samples_leaf=8, min_samples_split=6, n_estimators=5, random_state=0 \n",
      "[CV]  learning_rate=0.1, min_samples_leaf=8, min_samples_split=6, n_estimators=5, random_state=0, total=  13.8s\n",
      "[CV] learning_rate=0.1, min_samples_leaf=8, min_samples_split=6, n_estimators=5, random_state=0 \n",
      "[CV]  learning_rate=0.1, min_samples_leaf=8, min_samples_split=6, n_estimators=5, random_state=0, total=  14.3s\n",
      "[CV] learning_rate=0.1, min_samples_leaf=8, min_samples_split=6, n_estimators=10, random_state=0 \n",
      "[CV]  learning_rate=0.1, min_samples_leaf=8, min_samples_split=6, n_estimators=10, random_state=0, total=  27.4s\n",
      "[CV] learning_rate=0.1, min_samples_leaf=8, min_samples_split=6, n_estimators=10, random_state=0 \n"
     ]
    },
    {
     "name": "stdout",
     "output_type": "stream",
     "text": [
      "[CV]  learning_rate=0.1, min_samples_leaf=8, min_samples_split=6, n_estimators=10, random_state=0, total=  27.4s\n",
      "[CV] learning_rate=0.1, min_samples_leaf=8, min_samples_split=6, n_estimators=10, random_state=0 \n",
      "[CV]  learning_rate=0.1, min_samples_leaf=8, min_samples_split=6, n_estimators=10, random_state=0, total=  27.0s\n",
      "[CV] learning_rate=0.1, min_samples_leaf=8, min_samples_split=6, n_estimators=15, random_state=0 \n",
      "[CV]  learning_rate=0.1, min_samples_leaf=8, min_samples_split=6, n_estimators=15, random_state=0, total=  40.8s\n",
      "[CV] learning_rate=0.1, min_samples_leaf=8, min_samples_split=6, n_estimators=15, random_state=0 \n",
      "[CV]  learning_rate=0.1, min_samples_leaf=8, min_samples_split=6, n_estimators=15, random_state=0, total=  40.7s\n",
      "[CV] learning_rate=0.1, min_samples_leaf=8, min_samples_split=6, n_estimators=15, random_state=0 \n",
      "[CV]  learning_rate=0.1, min_samples_leaf=8, min_samples_split=6, n_estimators=15, random_state=0, total=  40.6s\n",
      "[CV] learning_rate=0.1, min_samples_leaf=8, min_samples_split=7, n_estimators=5, random_state=0 \n",
      "[CV]  learning_rate=0.1, min_samples_leaf=8, min_samples_split=7, n_estimators=5, random_state=0, total=  13.7s\n",
      "[CV] learning_rate=0.1, min_samples_leaf=8, min_samples_split=7, n_estimators=5, random_state=0 \n",
      "[CV]  learning_rate=0.1, min_samples_leaf=8, min_samples_split=7, n_estimators=5, random_state=0, total=  14.0s\n",
      "[CV] learning_rate=0.1, min_samples_leaf=8, min_samples_split=7, n_estimators=5, random_state=0 \n",
      "[CV]  learning_rate=0.1, min_samples_leaf=8, min_samples_split=7, n_estimators=5, random_state=0, total=  13.7s\n",
      "[CV] learning_rate=0.1, min_samples_leaf=8, min_samples_split=7, n_estimators=10, random_state=0 \n",
      "[CV]  learning_rate=0.1, min_samples_leaf=8, min_samples_split=7, n_estimators=10, random_state=0, total=  27.0s\n",
      "[CV] learning_rate=0.1, min_samples_leaf=8, min_samples_split=7, n_estimators=10, random_state=0 \n",
      "[CV]  learning_rate=0.1, min_samples_leaf=8, min_samples_split=7, n_estimators=10, random_state=0, total=  27.5s\n",
      "[CV] learning_rate=0.1, min_samples_leaf=8, min_samples_split=7, n_estimators=10, random_state=0 \n",
      "[CV]  learning_rate=0.1, min_samples_leaf=8, min_samples_split=7, n_estimators=10, random_state=0, total=  27.3s\n",
      "[CV] learning_rate=0.1, min_samples_leaf=8, min_samples_split=7, n_estimators=15, random_state=0 \n",
      "[CV]  learning_rate=0.1, min_samples_leaf=8, min_samples_split=7, n_estimators=15, random_state=0, total=  40.9s\n",
      "[CV] learning_rate=0.1, min_samples_leaf=8, min_samples_split=7, n_estimators=15, random_state=0 \n",
      "[CV]  learning_rate=0.1, min_samples_leaf=8, min_samples_split=7, n_estimators=15, random_state=0, total=  40.6s\n",
      "[CV] learning_rate=0.1, min_samples_leaf=8, min_samples_split=7, n_estimators=15, random_state=0 \n",
      "[CV]  learning_rate=0.1, min_samples_leaf=8, min_samples_split=7, n_estimators=15, random_state=0, total=  41.2s\n"
     ]
    },
    {
     "name": "stderr",
     "output_type": "stream",
     "text": [
      "[Parallel(n_jobs=1)]: Done 288 out of 288 | elapsed: 171.9min finished\n"
     ]
    },
    {
     "name": "stdout",
     "output_type": "stream",
     "text": [
      "Best Parameters:  {'learning_rate': 0.1, 'min_samples_leaf': 6, 'min_samples_split': 2, 'n_estimators': 15, 'random_state': 0}\n",
      "Score:  0.9986072586402631\n"
     ]
    }
   ],
   "source": [
    "\n",
    "\n",
    "gdc = GradientBoostingClassifier()\n",
    "\n",
    "params = {'n_estimators': [5,10,15],\n",
    "               'min_samples_split': [2,5,6,7],\n",
    "               'min_samples_leaf': [2,4,6,8],\n",
    "         'learning_rate': [0.01, 0.1], 'random_state': [0]}\n",
    "\n",
    "gdc_grid = GridSearchCV(gdc, params, cv = 3, verbose = 2)\n",
    "gdc_fit = gdc_grid.fit(x_train, y_train)\n",
    "score = gdc_grid.score(x_test, y_test)\n",
    "print('Best Parameters: ', gdc_fit.best_params_)\n",
    "print('Score: ',score)"
   ]
  },
  {
   "cell_type": "code",
   "execution_count": 10,
   "metadata": {},
   "outputs": [],
   "source": [
    "from sklearn.ensemble import GradientBoostingClassifier\n",
    "\n",
    "gdc2 = GradientBoostingClassifier(learning_rate = 0.1, min_samples_leaf = 6, min_samples_split = 2, n_estimators =15, random_state= 0)\n",
    "gdc2.fit(x_train, y_train)\n",
    "gdc_score = gdc2.score(x_test, y_test)\n",
    "y_pred_gdc = gdc2.predict(x_test)"
   ]
  },
  {
   "cell_type": "code",
   "execution_count": 11,
   "metadata": {},
   "outputs": [
    {
     "name": "stdout",
     "output_type": "stream",
     "text": [
      "Score:  0.9986072586402631\n",
      "Precision:  0.8695652173913043\n",
      "Recall:  0.14705882352941177\n",
      "F1 Score:  0.25157232704402516\n",
      "RMSE:  0.037319450153196265\n"
     ]
    }
   ],
   "source": [
    "rmse_gdc= np.sqrt(mean_squared_error(y_test,y_pred_gdc))\n",
    "acc_gdc= accuracy_score(y_test,y_pred_gdc)\n",
    "prec_gdc = precision_score(y_test, y_pred_gdc)\n",
    "f1_gdc = f1_score(y_test, y_pred_gdc)\n",
    "recall_gdc = recall_score(y_test, y_pred_gdc)\n",
    "proba_gdc = gdc2.predict_proba(x_test)\n",
    "\n",
    "\n",
    "print('Score: ', acc_gdc)\n",
    "print('Precision: ', prec_gdc)\n",
    "print('Recall: ', recall_gdc)\n",
    "print('F1 Score: ', f1_gdc)\n",
    "print('RMSE: ', rmse_gdc)"
   ]
  },
  {
   "cell_type": "code",
   "execution_count": 12,
   "metadata": {},
   "outputs": [
    {
     "data": {
      "image/png": "[encoded data removed]",
      "text/plain": [
       "<Figure size 720x720 with 2 Axes>"
      ]
     },
     "metadata": {
      "needs_background": "light"
     },
     "output_type": "display_data"
    }
   ],
   "source": [
    "labels = ['Valid', 'Fraud']\n",
    "cm_gdc = confusion_matrix(y_test, y_pred_gdc)\n",
    "plt.figure(figsize=(10,10))\n",
    "sns.heatmap(cm_gdc,annot=True, fmt=\"d\", cmap = 'winter')\n",
    "plt.title('Gradient Boosting Confusion matrix')\n",
    "plt.ylabel('True class')\n",
    "plt.xlabel('Predicted class')\n",
    "plt.show()"
   ]
  },
  {
   "cell_type": "markdown",
   "metadata": {},
   "source": [
    "# NN"
   ]
  },
  {
   "cell_type": "code",
   "execution_count": 47,
   "metadata": {},
   "outputs": [],
   "source": [
    "import keras\n",
    "from keras.models import Sequential\n",
    "from keras.layers import Dense\n",
    "\n"
   ]
  },
  {
   "cell_type": "code",
   "execution_count": null,
   "metadata": {},
   "outputs": [],
   "source": [
    "# Initialising the ANN\n",
    "classifier = Sequential()# Adding the input layer and the first hidden layer\n",
    "classifier.add(Dense(units = 15 , kernel_initializer = 'uniform', activation = 'relu', input_dim = 29)) #Adding the second hidden layer\n",
    "classifier.add(Dense(units = 15, kernel_initializer = 'uniform', activation = 'relu'))# Adding the output layer\n",
    "classifier.add(Dense(units = 1, kernel_initializer = 'uniform', activation = 'sigmoid'))# Compiling the ANN\n",
    "classifier.compile(optimizer = 'SGD', loss = 'mean_squared_error', metrics = ['accuracy'])# Fitting the ANN to the Training set\n",
    "model1 = classifier.fit(x_train, y_train, batch_size = 32, epochs = 100, validation_data=(x_test, y_test))"
   ]
  },
  {
   "cell_type": "code",
   "execution_count": 54,
   "metadata": {},
   "outputs": [
    {
     "name": "stdout",
     "output_type": "stream",
     "text": [
      "85443/85443 [==============================] - 3s 37us/step\n"
     ]
    },
    {
     "data": {
      "text/plain": [
       "[0.0015901159894153034, 0.998408317565918]"
      ]
     },
     "execution_count": 54,
     "metadata": {},
     "output_type": "execute_result"
    }
   ],
   "source": [
    "y_pred_nn = classifier.predict(x_test).ravel()\n",
    "\n",
    "proba_nn = classifier.predict_proba(x_test).ravel()\n",
    "\n",
    "score = classifier.evaluate(x_test, y_test)\n",
    "score"
   ]
  },
  {
   "cell_type": "code",
   "execution_count": null,
   "metadata": {},
   "outputs": [],
   "source": [
    "acc = history1.history['accuracy']\n",
    "val_acc = history1.history['val_acc']\n",
    "\n",
    "epoch = range(len(acc))\n",
    "\n",
    "plt.plot(acc, epoch, figsize = (10,15))"
   ]
  },
  {
   "cell_type": "code",
   "execution_count": 56,
   "metadata": {},
   "outputs": [
    {
     "data": {
      "image/png": "[encoded data removed]",
      "text/plain": [
       "<Figure size 720x720 with 2 Axes>"
      ]
     },
     "metadata": {
      "needs_background": "light"
     },
     "output_type": "display_data"
    }
   ],
   "source": [
    "labels = ['Valid', 'Fraud']\n",
    "cm_gdc = confusion_matrix(y_test, y_pred_nn.round(), normalize = False)\n",
    "plt.figure(figsize=(10,10))\n",
    "sns.heatmap(cm_gdc,annot=True, fmt=\"d\", cmap = 'winter')\n",
    "plt.title('Confusion matrix')\n",
    "plt.ylabel('True class')\n",
    "plt.xlabel('Predicted class')\n",
    "plt.show()"
   ]
  },
  {
   "cell_type": "code",
   "execution_count": 87,
   "metadata": {},
   "outputs": [
    {
     "name": "stdout",
     "output_type": "stream",
     "text": [
      "Accuracy:  0.9984082955888721\n"
     ]
    }
   ],
   "source": [
    "y_classes = classifier.predict_classes(x_test)\n",
    "print('Accuracy: ', accuracy_score(y_test, y_classes))"
   ]
  },
  {
   "cell_type": "code",
   "execution_count": 85,
   "metadata": {},
   "outputs": [
    {
     "data": {
      "image/png": "[encoded data removed]",
      "text/plain": [
       "<Figure size 720x576 with 1 Axes>"
      ]
     },
     "metadata": {
      "needs_background": "light"
     },
     "output_type": "display_data"
    }
   ],
   "source": [
    "from sklearn.metrics import roc_curve, roc_auc_score\n",
    "plt.figure(figsize=(10,8))\n",
    "\n",
    "models = [{\n",
    "    'label': 'Random Forest',\n",
    "    'model': rfc2,\n",
    "    'y_score': proba_rfc[:,1],\n",
    "    'y_pred':y_pred_rfc},\n",
    "{\n",
    "    'label': 'Gradient Boosting',\n",
    "    'model': gdc2,\n",
    "    'y_score': proba_gdc[:,1],\n",
    "    'y_pred':y_pred_gdc},\n",
    "{\n",
    "    'label': 'Decision Tree',\n",
    "    'model': dtc2,\n",
    "    'y_score': proba_dtc[:,1],\n",
    "    'y_pred':y_pred_dtc},\n",
    "{\n",
    "    'label': 'Neural Network',\n",
    "    'model': classifier,\n",
    "    'y_score': proba_nn,\n",
    "    'y_pred':y_pred_nn }]\n",
    "\n",
    "for m in models:\n",
    "    model = m['model']\n",
    "\n",
    "    fpr, tpr, thresholds = roc_curve(y_test, m['y_score'])\n",
    "#\n",
    "    auc = roc_auc_score(y_test,m['y_pred'])\n",
    "\n",
    "    plt.plot(fpr, tpr, label='%s ROC (area = %0.2f)' % (m['label'], auc))\n",
    "plt\n",
    "plt.plot([0, 1], [0, 1],'r--')\n",
    "plt.xlim([0.0, 1.0])\n",
    "plt.ylim([0.0, 1.05])\n",
    "plt.xlabel('False Positive Rate')\n",
    "plt.ylabel('True Positive Rate')\n",
    "plt.title('Receiver Operating Characteristic')\n",
    "plt.legend(loc=\"lower right\")\n",
    "plt.show()"
   ]
  },
  {
   "cell_type": "code",
   "execution_count": 19,
   "metadata": {},
   "outputs": [
    {
     "data": {
      "text/html": [
       "<div>\n",
       "<style scoped>\n",
       "    .dataframe tbody tr th:only-of-type {\n",
       "        vertical-align: middle;\n",
       "    }\n",
       "\n",
       "    .dataframe tbody tr th {\n",
       "        vertical-align: top;\n",
       "    }\n",
       "\n",
       "    .dataframe thead th {\n",
       "        text-align: right;\n",
       "    }\n",
       "</style>\n",
       "<table border=\"1\" class=\"dataframe\">\n",
       "  <thead>\n",
       "    <tr style=\"text-align: right;\">\n",
       "      <th></th>\n",
       "      <th>Model</th>\n",
       "      <th>Accuracy</th>\n",
       "      <th>Precision</th>\n",
       "      <th>Recall</th>\n",
       "      <th>F1 Score</th>\n",
       "      <th>RMSE</th>\n",
       "    </tr>\n",
       "  </thead>\n",
       "  <tbody>\n",
       "    <tr>\n",
       "      <th>0</th>\n",
       "      <td>Random Forest</td>\n",
       "      <td>0.999579</td>\n",
       "      <td>0.931034</td>\n",
       "      <td>0.794118</td>\n",
       "      <td>0.857143</td>\n",
       "      <td>0.020526</td>\n",
       "    </tr>\n",
       "    <tr>\n",
       "      <th>1</th>\n",
       "      <td>Decision Tree</td>\n",
       "      <td>0.999415</td>\n",
       "      <td>0.864407</td>\n",
       "      <td>0.750000</td>\n",
       "      <td>0.803150</td>\n",
       "      <td>0.024191</td>\n",
       "    </tr>\n",
       "    <tr>\n",
       "      <th>2</th>\n",
       "      <td>Gradient Boosting</td>\n",
       "      <td>0.998607</td>\n",
       "      <td>0.869565</td>\n",
       "      <td>0.147059</td>\n",
       "      <td>0.251572</td>\n",
       "      <td>0.037319</td>\n",
       "    </tr>\n",
       "  </tbody>\n",
       "</table>\n",
       "</div>"
      ],
      "text/plain": [
       "               Model  Accuracy  Precision    Recall  F1 Score      RMSE\n",
       "0      Random Forest  0.999579   0.931034  0.794118  0.857143  0.020526\n",
       "1      Decision Tree  0.999415   0.864407  0.750000  0.803150  0.024191\n",
       "2  Gradient Boosting  0.998607   0.869565  0.147059  0.251572  0.037319"
      ]
     },
     "execution_count": 19,
     "metadata": {},
     "output_type": "execute_result"
    }
   ],
   "source": [
    "results = pd.DataFrame([['Random Forest', acc_rfc, prec_rfc, rec_rfc, f1_rfc, rmse_rfc]],\n",
    "               columns = ['Model', 'Accuracy', 'Precision', 'Recall', 'F1 Score', 'RMSE'])\n",
    "dtc_results = pd.DataFrame([['Decision Tree', dtc2_score, prec_dtc, rec_dtc, f1_dtc, rmse_dtc]],\n",
    "               columns = ['Model', 'Accuracy', 'Precision', 'Recall', 'F1 Score', 'RMSE'])\n",
    "\n",
    "gdc_results = pd.DataFrame([['Gradient Boosting', gdc_score, prec_gdc, recall_gdc, f1_gdc, rmse_gdc]],\n",
    "               columns = ['Model', 'Accuracy', 'Precision', 'Recall', 'F1 Score', 'RMSE'])\n",
    "\n",
    "\n",
    "results = results.append(dtc_results, ignore_index = True)\n",
    "results = results.append( gdc_results, ignore_index = True)\n",
    "\n",
    "results"
   ]
  },
  {
   "cell_type": "code",
   "execution_count": null,
   "metadata": {},
   "outputs": [],
   "source": []
  }
 ],
 "metadata": {
  "kernelspec": {
   "display_name": "Python 3",
   "language": "python",
   "name": "python3"
  },
  "language_info": {
   "codemirror_mode": {
    "name": "ipython",
    "version": 3
   },
   "file_extension": ".py",
   "mimetype": "text/x-python",
   "name": "python",
   "nbconvert_exporter": "python",
   "pygments_lexer": "ipython3",
   "version": "3.7.3"
  }
 },
 "nbformat": 4,
 "nbformat_minor": 2
}
